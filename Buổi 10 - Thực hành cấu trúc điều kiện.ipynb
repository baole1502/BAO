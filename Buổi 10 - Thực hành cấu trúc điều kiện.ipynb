{
 "cells": [
  {
   "cell_type": "markdown",
   "id": "dcdb816e",
   "metadata": {},
   "source": [
    "# Thực hành cấu trúc điều khiển\n",
    "\n",
    "### Bài 1\n",
    "\n",
    "Cho phương trình bậc 2: ax^2 + bx + c = 0\n",
    "\n",
    "Nhập a, b, c\n",
    "\n",
    "Giải và biện luận phương trình trên"
   ]
  },
  {
   "cell_type": "code",
   "execution_count": null,
   "id": "b5a5c325",
   "metadata": {},
   "outputs": [],
   "source": [
    "a = float(input('Nhập a: '))\n",
    "b = float(input('Nhập b: '))\n",
    "c = float(input('Nhập c: '))\n",
    "x1 = ((-b + (b**2-4*a*c)**0.5)/2*a)\n",
    "x2 = ((-b - (b**2-4*a*c)**0.5)/2*a)\n",
    "print(x1 , 'and',  x2)\n"
   ]
  },
  {
   "cell_type": "markdown",
   "id": "6f7d329d",
   "metadata": {},
   "source": [
    "### Bài 2\n",
    "\n",
    "Hãy nhập vào một số\n",
    "\n",
    "Xác định coi đó có phải là số nguyên tố hay không"
   ]
  },
  {
   "cell_type": "code",
   "execution_count": 1,
   "id": "e7b521d3",
   "metadata": {},
   "outputs": [
    {
     "name": "stdout",
     "output_type": "stream",
     "text": [
      "Nhập vào một số:0\n",
      "không phải là số nguyên tố\n"
     ]
    }
   ],
   "source": [
    "a = int(input('Nhập vào một số:'))\n",
    "b = 1\n",
    "if (a<2):\n",
    "    b = 0\n",
    "for p in range(2, a):\n",
    "    if a % p == 0:\n",
    "        b = 0\n",
    "        break\n",
    "if b == 0:\n",
    "    print('không phải là số nguyên tố')\n",
    "elif b == 1:\n",
    "    print('số nguyên tố')"
   ]
  },
  {
   "cell_type": "markdown",
   "id": "75f7717b",
   "metadata": {},
   "source": [
    "### Bài 3\n",
    "\n",
    "Hãy nhập vào số n\n",
    "\n",
    "Hãy đếm số chữ số 0 tận cùng của n giai thừa\n",
    "\n",
    "(Bài này nâng cao, mọi người có thể bỏ qua)"
   ]
  },
  {
   "cell_type": "code",
   "execution_count": null,
   "id": "789e0e76",
   "metadata": {},
   "outputs": [],
   "source": []
  },
  {
   "cell_type": "markdown",
   "id": "29cd6c81",
   "metadata": {},
   "source": [
    "### Bài 4\n",
    "\n",
    "In ra tất cả các số chia hết cho 3 nhỏ hơn 100"
   ]
  },
  {
   "cell_type": "code",
   "execution_count": 3,
   "id": "0b848981",
   "metadata": {},
   "outputs": [
    {
     "name": "stdout",
     "output_type": "stream",
     "text": [
      "3\n",
      "6\n",
      "9\n",
      "12\n",
      "15\n",
      "18\n",
      "21\n",
      "24\n",
      "27\n",
      "30\n",
      "33\n",
      "36\n",
      "39\n",
      "42\n",
      "45\n",
      "48\n",
      "51\n",
      "54\n",
      "57\n",
      "60\n",
      "63\n",
      "66\n",
      "69\n",
      "72\n",
      "75\n",
      "78\n",
      "81\n",
      "84\n",
      "87\n",
      "90\n",
      "93\n",
      "96\n",
      "99\n"
     ]
    }
   ],
   "source": [
    "k = 0\n",
    "for i in range(33):\n",
    "    a = (3+k)\n",
    "    k = k +3\n",
    "    print(a)\n",
    "    "
   ]
  },
  {
   "cell_type": "markdown",
   "id": "04dbf99b",
   "metadata": {},
   "source": [
    "### Bài 5\n",
    "\n",
    "In ra tất cả các số lẻ nhưng không chia hết cho 3 nhỏ hơn 100"
   ]
  },
  {
   "cell_type": "code",
   "execution_count": 6,
   "id": "769eb439",
   "metadata": {},
   "outputs": [
    {
     "name": "stdout",
     "output_type": "stream",
     "text": [
      "1\n",
      "5\n",
      "7\n",
      "11\n",
      "13\n",
      "17\n",
      "19\n",
      "23\n",
      "25\n",
      "29\n",
      "31\n",
      "35\n",
      "37\n",
      "41\n",
      "43\n",
      "47\n",
      "49\n",
      "53\n",
      "55\n",
      "59\n",
      "61\n",
      "65\n",
      "67\n",
      "71\n",
      "73\n",
      "77\n",
      "79\n",
      "83\n",
      "85\n",
      "89\n",
      "91\n",
      "95\n",
      "97\n"
     ]
    }
   ],
   "source": [
    "k = 0\n",
    "a = 0\n",
    "for i in range(100):\n",
    "    a = a +1\n",
    "    if a%2 ==1:\n",
    "        if a%3 == 2 or a%3 ==1:\n",
    "            print(a)\n",
    "\n",
    "    "
   ]
  },
  {
   "cell_type": "markdown",
   "id": "26dd47fb",
   "metadata": {},
   "source": [
    "### Bài 5\n",
    "\n",
    "Tại một cửa hàng nọ có menu như sau:\n",
    "\n",
    "1. Gà rán giá 35k\n",
    "2. Hamburger giá 50k\n",
    "3. Pesi giá 10k\n",
    "\n",
    "Nhập số lượng món hàng cần mua\n",
    "\n",
    "Tính và in ra tổng giá tiền (hiển thị có dấu chấm mỗi 3 chữ số để người dùng để quan sát)\n",
    "\n",
    "Nếu giá trị đơn hàng trên 2 triệu, giảm 10% cho khách, trên 4 triệu, giảm 15%\n",
    "\n",
    "Tính và in ra tổng giá tiền được giảm (hiển thị có dấu chấm mỗi 3 chữ số để người dùng để quan sát)\n",
    "\n",
    "Tính và in ra tổng giá tiền khách cần trả (hiển thị có dấu chấm mỗi 3 chữ số để người dùng để quan sát)\n",
    "\n",
    "In ra dòng chữ \"Cảm ơn quý khách đã mua hàng\""
   ]
  },
  {
   "cell_type": "code",
   "execution_count": 6,
   "id": "8509df1e",
   "metadata": {},
   "outputs": [
    {
     "name": "stdout",
     "output_type": "stream",
     "text": [
      "Gà rán giá 35K\n",
      "Hamburger giá 50K\n",
      "Pepsi giá 10K\n",
      "Số lượng gà rán:100\n",
      "Số lượng hamburger:100\n",
      "Số lượng pepsi:100\n",
      "50.000.0.0 VND\n",
      "Cảm ơn quý khách đã mua hàng\n"
     ]
    }
   ],
   "source": [
    "print('Gà rán giá 35K')\n",
    "print('Hamburger giá 50K')\n",
    "print('Pepsi giá 10K')\n",
    "dem = 0\n",
    "\n",
    "garan = float(input(\"Số lượng gà rán:\"))\n",
    "hamburger = float(input(\"Số lượng hamburger:\"))\n",
    "pepsi = float(input(\"Số lượng pepsi:\"))\n",
    "tongtien = garan*35000 + hamburger*50000 + pepsi*10000\n",
    "p = int(tongtien)\n",
    "if tongtien >2000000:\n",
    "    p = int(tongtien)*0.9\n",
    "elif tongtien >4000000:\n",
    "    p = int(tongtien)*0.85\n",
    "tong_tam = \"\"\n",
    "tongtien = str(tongtien)\n",
    "k = -1\n",
    "for i in range(len(tongtien)):\n",
    "    if dem == 3: ## đếm được 3 kí tự thì cho thêm một chấm vào\n",
    "        tong_tam += \".\"\n",
    "        dem =0\n",
    "    tong_tam += tongtien[k]\n",
    "    dem += 1\n",
    "    k -= 1\n",
    "tongtien = tong_tam[::-1]\n",
    "print(str(tongtien)[1:],\"VND\")\n",
    "print('Cảm ơn quý khách đã mua hàng')"
   ]
  },
  {
   "cell_type": "markdown",
   "id": "ab10a1ce",
   "metadata": {},
   "source": [
    "### Bài 6\n",
    "\n",
    "Nhập vào chiều cao (cm) và cân nặng (kg), tính số BMI và xét rồi xin kết quả theo dữ liệu sau:\n",
    "\n",
    "- BMI < 16: Gầy cấp độ III\n",
    "- 16 <= BMI < 17:  Gầy cấp độ II\n",
    "- 17<= BMI < 18.5: Gầy cấp độ I\n",
    "- 18.5 <= BMI < 25: Bình thường\n",
    "- 25 <= BMI < 30: Thừa cân\n",
    "- 30 <= BMI < 35 : Béo phì cấp độ I\n",
    "- 35 <= BMI < 40: Béo phì cấp độ II\n",
    "- BMI > 40: Béo phì cấp độ III"
   ]
  },
  {
   "cell_type": "code",
   "execution_count": 52,
   "id": "1058f441",
   "metadata": {},
   "outputs": [
    {
     "name": "stdout",
     "output_type": "stream",
     "text": [
      "Nhập vào cân nặng theo kg: 64\n",
      "Nhập vào chiêu cao tính theo m: 1.68\n",
      "Bình thường\n"
     ]
    }
   ],
   "source": [
    "a = float(input('Nhập vào cân nặng theo kg: '))\n",
    "b = float(input('Nhập vào chiêu cao tính theo m: '))\n",
    "b = a/(b**2)\n",
    "if b <16:\n",
    "    print('Gầy cấp độ III')\n",
    "elif 16 <= b < 17:\n",
    "    print('Gầy cấp độ II')\n",
    "elif 17<= b < 18.5:\n",
    "    print('Gầy cấp độ I')\n",
    "elif 18.5 <= b < 25:\n",
    "    print('Bình thường')\n",
    "elif 25 <= b < 30:\n",
    "    print('Thừa cân')\n",
    "elif 30 <= b < 35:\n",
    "    print('Béo phì cấp độ I')\n",
    "elif 35 <= b < 40:\n",
    "    print('Béo phì cấp độ II')\n",
    "elif b > 40:\n",
    "    print('Béo phì cấp độ III')"
   ]
  },
  {
   "cell_type": "markdown",
   "id": "f7620342",
   "metadata": {},
   "source": [
    "### Bài 7\n",
    "\n",
    "Nhập ngày, tháng, năm. Hãy tính và in ra màn hình kể từ đầu năm đến ngày vừa nhập là bao nhiêu ngày."
   ]
  },
  {
   "cell_type": "code",
   "execution_count": 7,
   "id": "4c57f0a5",
   "metadata": {},
   "outputs": [
    {
     "name": "stdout",
     "output_type": "stream",
     "text": [
      "Nhập ngày: 14\n",
      "Nhập tháng: 6\n",
      "Nhập năm: 1999\n",
      "134\n"
     ]
    }
   ],
   "source": [
    "a = int(input('Nhập ngày: '))\n",
    "b = int(input('Nhập tháng: '))\n",
    "c = int(input('Nhập năm: '))\n",
    "d1 = 0\n",
    "d2 = 0\n",
    "if (c % 4 == 0):\n",
    "    if not(c % 100 == 0):\n",
    "        for i in range((b-1)//2):\n",
    "            d1 = 31 + d1\n",
    "            d2 = 30 + d2\n",
    "        if (b > 2):\n",
    "            tongngay = d1 + d2 + a - 1\n",
    "        else: \n",
    "            tongngay = 31 + a\n",
    "else:\n",
    "    for i in range((b-1)//2):\n",
    "        d1 = 31 + d1\n",
    "        d2 = 30 + d2\n",
    "    if(b>2):\n",
    "        tongngay = d1 + d2 + a - 2\n",
    "    else: \n",
    "        tongngay = 31 + a\n",
    "print(tongngay)\n",
    "## làm sai rồi"
   ]
  },
  {
   "cell_type": "code",
   "execution_count": null,
   "id": "514ee170",
   "metadata": {},
   "outputs": [],
   "source": [
    "a = int(input('Nhập vào một số:'))\n",
    "k = 0\n",
    "while a <= 0:\n",
    "    print('Yêu cầu nhập lại')\n",
    "    a = int(input('Nhập lại:'))\n",
    "print('Nhập đúng quy định')\n",
    "\n",
    "\n",
    "i = 1\n",
    "dem = 0\n",
    "while i <= a:\n",
    "    if a % i == 0 and i % 2 == 0:\n",
    "        dem += 1\n",
    "    i += 1\n",
    "print(dem)"
   ]
  }
 ],
 "metadata": {
  "kernelspec": {
   "display_name": "Python 3 (ipykernel)",
   "language": "python",
   "name": "python3"
  },
  "language_info": {
   "codemirror_mode": {
    "name": "ipython",
    "version": 3
   },
   "file_extension": ".py",
   "mimetype": "text/x-python",
   "name": "python",
   "nbconvert_exporter": "python",
   "pygments_lexer": "ipython3",
   "version": "3.10.4"
  }
 },
 "nbformat": 4,
 "nbformat_minor": 5
}
