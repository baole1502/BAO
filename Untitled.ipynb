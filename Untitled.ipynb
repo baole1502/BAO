{
 "cells": [
  {
   "cell_type": "code",
   "execution_count": 3,
   "id": "33fa58d7",
   "metadata": {},
   "outputs": [
    {
     "name": "stdout",
     "output_type": "stream",
     "text": [
      "3.5\n",
      "Đây không phải là số nguyên\n"
     ]
    }
   ],
   "source": [
    "a = input()\n",
    "a = float(a)\n",
    "if a%2 == 0:\n",
    "    print('Đây là số chẵn')\n",
    "elif a%2 == 1:\n",
    "    print(\"Đây là số lẻ\")\n",
    "else:\n",
    "    print('Đây không phải là số nguyên')"
   ]
  }
 ],
 "metadata": {
  "kernelspec": {
   "display_name": "Python 3 (ipykernel)",
   "language": "python",
   "name": "python3"
  },
  "language_info": {
   "codemirror_mode": {
    "name": "ipython",
    "version": 3
   },
   "file_extension": ".py",
   "mimetype": "text/x-python",
   "name": "python",
   "nbconvert_exporter": "python",
   "pygments_lexer": "ipython3",
   "version": "3.10.4"
  }
 },
 "nbformat": 4,
 "nbformat_minor": 5
}
