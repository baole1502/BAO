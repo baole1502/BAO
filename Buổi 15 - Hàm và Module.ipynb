{
 "cells": [
  {
   "cell_type": "markdown",
   "id": "73456e5e",
   "metadata": {},
   "source": [
    "# Hàm\n",
    "\n",
    "### Hàm\n",
    "\n",
    "Cú pháp:\n",
    "\n",
    "`def <tên hàm>(<tham số)>:\n",
    "    //Nội dung hàm`\n",
    "\n",
    "Gọi hàm:\n",
    "`<tên hàm>(<giá trị đầu vào>)`\n",
    "\n",
    "Ví dụ:\n",
    "\n",
    "Hãy viết 1 hàm số để tính tổng 2 số đầu vào và in nó ra màn hình"
   ]
  },
  {
   "cell_type": "code",
   "execution_count": null,
   "id": "af5b9f6d",
   "metadata": {},
   "outputs": [],
   "source": [
    "def demo(): ## Khi khởi tạo hàm thì các lệnh trong hàm chưa được thực hiện\n",
    "    print(\"Hello\")\n",
    "\n",
    "## chương trình chính\n",
    "demo()\n",
    "demo()"
   ]
  },
  {
   "cell_type": "code",
   "execution_count": 2,
   "id": "e9897807",
   "metadata": {},
   "outputs": [
    {
     "name": "stdout",
     "output_type": "stream",
     "text": [
      "Hello\n",
      "Hi\n",
      "Hello\n",
      "Hi\n"
     ]
    }
   ],
   "source": [
    "def demo():\n",
    "    print(\"Hello\")\n",
    "    print(\"Hi\")\n",
    "    print(\"Hello\")\n",
    "demo()\n"
   ]
  },
  {
   "cell_type": "code",
   "execution_count": 8,
   "id": "41023dc9",
   "metadata": {},
   "outputs": [
    {
     "name": "stdout",
     "output_type": "stream",
     "text": [
      "0.5\n"
     ]
    }
   ],
   "source": [
    "def thuong(a,b):\n",
    "    print(a/b)\n",
    "thuong(10,20)"
   ]
  },
  {
   "cell_type": "code",
   "execution_count": 7,
   "id": "2e78b8d4",
   "metadata": {},
   "outputs": [
    {
     "name": "stdout",
     "output_type": "stream",
     "text": [
      "200\n"
     ]
    }
   ],
   "source": [
    "def tich(a,b):\n",
    "    print(a*b)\n",
    "tich(10,20)"
   ]
  },
  {
   "cell_type": "code",
   "execution_count": 10,
   "id": "4f822ab6",
   "metadata": {},
   "outputs": [
    {
     "name": "stdout",
     "output_type": "stream",
     "text": [
      "In trong hàm 8\n"
     ]
    },
    {
     "ename": "NameError",
     "evalue": "name 'a' is not defined",
     "output_type": "error",
     "traceback": [
      "\u001b[1;31m---------------------------------------------------------------------------\u001b[0m",
      "\u001b[1;31mNameError\u001b[0m                                 Traceback (most recent call last)",
      "Input \u001b[1;32mIn [10]\u001b[0m, in \u001b[0;36m<cell line: 5>\u001b[1;34m()\u001b[0m\n\u001b[0;32m      3\u001b[0m     \u001b[38;5;28mprint\u001b[39m(\u001b[38;5;124m'\u001b[39m\u001b[38;5;124mIn trong hàm\u001b[39m\u001b[38;5;124m'\u001b[39m, a\u001b[38;5;241m+\u001b[39mb)\n\u001b[0;32m      4\u001b[0m biendoi(\u001b[38;5;241m3\u001b[39m,\u001b[38;5;241m5\u001b[39m)\n\u001b[1;32m----> 5\u001b[0m \u001b[38;5;28mprint\u001b[39m(\u001b[38;5;124m'\u001b[39m\u001b[38;5;124mIn ngoài hàm\u001b[39m\u001b[38;5;124m'\u001b[39m, \u001b[43ma\u001b[49m,b)\n",
      "\u001b[1;31mNameError\u001b[0m: name 'a' is not defined"
     ]
    }
   ],
   "source": [
    "def biendoi(a,b): ##a,b là biến local, có nghĩa là a và b chỉ được sử dụng trong hàm này\n",
    "    a,b = b, a\n",
    "    print('In trong hàm', a+b)\n",
    "biendoi(3,5)\n",
    "print('In ngoài hàm', a,b)"
   ]
  },
  {
   "cell_type": "code",
   "execution_count": 12,
   "id": "d4178f71",
   "metadata": {},
   "outputs": [
    {
     "name": "stdout",
     "output_type": "stream",
     "text": [
      "2\n"
     ]
    },
    {
     "ename": "NameError",
     "evalue": "name 'c' is not defined",
     "output_type": "error",
     "traceback": [
      "\u001b[1;31m---------------------------------------------------------------------------\u001b[0m",
      "\u001b[1;31mNameError\u001b[0m                                 Traceback (most recent call last)",
      "Input \u001b[1;32mIn [12]\u001b[0m, in \u001b[0;36m<cell line: 5>\u001b[1;34m()\u001b[0m\n\u001b[0;32m      3\u001b[0m     \u001b[38;5;28mprint\u001b[39m(c)\n\u001b[0;32m      4\u001b[0m biendoi(\u001b[38;5;241m2\u001b[39m,\u001b[38;5;241m7\u001b[39m)\n\u001b[1;32m----> 5\u001b[0m \u001b[38;5;28mprint\u001b[39m(\u001b[43mc\u001b[49m)\n",
      "\u001b[1;31mNameError\u001b[0m: name 'c' is not defined"
     ]
    }
   ],
   "source": [
    "def biendoi(a,b):\n",
    "    c = 2 ##biến c được khai báo trong hàm nên c là biến local\n",
    "    print('In trong hàm: ', c)\n",
    "c = 7\n",
    "biendoi(2,7)\n",
    "print('In ngoài hàm, c)"
   ]
  },
  {
   "cell_type": "code",
   "execution_count": 15,
   "id": "a5032029",
   "metadata": {},
   "outputs": [
    {
     "name": "stdout",
     "output_type": "stream",
     "text": [
      "7\n",
      "7\n"
     ]
    }
   ],
   "source": [
    "def biendoi(a,b):\n",
    "    print(c)\n",
    "c = 7 \n",
    "biendoi(2,7)\n",
    "print(c)"
   ]
  },
  {
   "cell_type": "code",
   "execution_count": 18,
   "id": "5bb84bbd",
   "metadata": {},
   "outputs": [
    {
     "name": "stdout",
     "output_type": "stream",
     "text": [
      "5\n"
     ]
    }
   ],
   "source": [
    "def thaydoi(a):\n",
    "    global c\n",
    "    c = a\n",
    "    \n",
    "c = 7\n",
    "thaydoi(5)\n",
    "print(c)"
   ]
  },
  {
   "cell_type": "code",
   "execution_count": 19,
   "id": "4d5cc7a6",
   "metadata": {},
   "outputs": [
    {
     "name": "stdout",
     "output_type": "stream",
     "text": [
      "10\n"
     ]
    }
   ],
   "source": [
    "def demo(a):\n",
    "    a = 7\n",
    "b =10\n",
    "demo(b)\n",
    "print(b)"
   ]
  },
  {
   "cell_type": "markdown",
   "id": "a7c39f47",
   "metadata": {},
   "source": [
    "### Giá trị trả về của hàm\n",
    "\n",
    "# return\n",
    "\n",
    "Cú pháp:\n",
    "\n",
    "`retrun <giá trị trả về>`\n",
    "\n",
    "##### Lưu ý: Sau khi thực hiện lệnh return, chương trình sẽ thoát khỏi hàm ngay lập tức (những lệnh sau đó không được thực hiện)\n",
    "\n",
    "Ví dụ:\n",
    "\n",
    "Hãy viết 1 hàm trả về giá trị trung bình của 2 số bất kỳ"
   ]
  },
  {
   "cell_type": "code",
   "execution_count": 20,
   "id": "0b527b95",
   "metadata": {},
   "outputs": [
    {
     "name": "stdout",
     "output_type": "stream",
     "text": [
      "hi\n"
     ]
    }
   ],
   "source": [
    "print('hi')\n",
    "a = abs(7)"
   ]
  },
  {
   "cell_type": "code",
   "execution_count": 22,
   "id": "49db4d68",
   "metadata": {},
   "outputs": [
    {
     "name": "stdout",
     "output_type": "stream",
     "text": [
      "4\n"
     ]
    }
   ],
   "source": [
    "def demo():\n",
    "    for i in range(10):\n",
    "        if i == 5:\n",
    "            return i -1\n",
    "    return 0\n",
    "a = demo()\n",
    "print(a)"
   ]
  },
  {
   "cell_type": "code",
   "execution_count": 26,
   "id": "def8c870",
   "metadata": {},
   "outputs": [
    {
     "name": "stdout",
     "output_type": "stream",
     "text": [
      "1\n"
     ]
    }
   ],
   "source": [
    "def demo():\n",
    "    for i in range(10):\n",
    "        for j in range(20):\n",
    "            if i*j == 15:\n",
    "                return i\n",
    "    return 0\n",
    "a = demo()\n",
    "print(a)"
   ]
  },
  {
   "cell_type": "code",
   "execution_count": 36,
   "id": "1f5965f4",
   "metadata": {},
   "outputs": [
    {
     "data": {
      "text/plain": [
       "1"
      ]
     },
     "execution_count": 36,
     "metadata": {},
     "output_type": "execute_result"
    }
   ],
   "source": [
    "\n",
    "def chanle(a):\n",
    "    if a%2 == 0:\n",
    "        return 2\n",
    "    return 1\n",
    "chanle(3)"
   ]
  },
  {
   "cell_type": "code",
   "execution_count": 32,
   "id": "c414ae95",
   "metadata": {},
   "outputs": [
    {
     "name": "stdout",
     "output_type": "stream",
     "text": [
      "4\n"
     ]
    },
    {
     "data": {
      "text/plain": [
       "2"
      ]
     },
     "execution_count": 32,
     "metadata": {},
     "output_type": "execute_result"
    }
   ],
   "source": [
    "def demo(x):\n",
    "    if x%2==0:\n",
    "        return 2\n",
    "    else:\n",
    "        return 0\n",
    "x =int(input())\n",
    "demo(x)"
   ]
  },
  {
   "cell_type": "code",
   "execution_count": 4,
   "id": "d9ba8554",
   "metadata": {},
   "outputs": [
    {
     "name": "stdout",
     "output_type": "stream",
     "text": [
      "lớn hơn\n"
     ]
    }
   ],
   "source": [
    "def giaithua(x):\n",
    "    giaithua_tam = 1\n",
    "    for i in range(x,0,-1):\n",
    "        giaithua_tam *= i\n",
    "        if giaithua_tam > 100:\n",
    "            return \"lớn hơn\"\n",
    "    return \"nhỏ hơn\"\n",
    "\n"
   ]
  },
  {
   "cell_type": "code",
   "execution_count": null,
   "id": "c9babcce",
   "metadata": {},
   "outputs": [],
   "source": [
    "def giaithua100(a):\n",
    "    giaithua = 1\n",
    "    for i in range(1,a+1):\n",
    "        giaithua *= 1\n",
    "    return giaithua >!100\n",
    "if giaithua(100)"
   ]
  },
  {
   "cell_type": "markdown",
   "id": "1d7f8db0",
   "metadata": {},
   "source": [
    "### Bài tập"
   ]
  },
  {
   "cell_type": "markdown",
   "id": "75fb488b",
   "metadata": {},
   "source": [
    "Viết hàm kiểm tra số nguyên tố"
   ]
  },
  {
   "cell_type": "code",
   "execution_count": 21,
   "id": "63701bd7",
   "metadata": {},
   "outputs": [
    {
     "name": "stdout",
     "output_type": "stream",
     "text": [
      "Hãy nhập một số: 11\n"
     ]
    },
    {
     "data": {
      "text/plain": [
       "'songuyento'"
      ]
     },
     "execution_count": 21,
     "metadata": {},
     "output_type": "execute_result"
    }
   ],
   "source": [
    "def songuyento(x):\n",
    "    k = 0\n",
    "    if x == 1 or x ==2:\n",
    "        return 'songuyento'    \n",
    "    for i in range(2, x,1):\n",
    "        if x%i == 0:\n",
    "            k += 1\n",
    "        if k == 0:\n",
    "            return 'songuyento'\n",
    "        else:\n",
    "            return 'khonglasonguyento'\n",
    "x = int(input('Hãy nhập một số: '))\n",
    "songuyento(x)"
   ]
  },
  {
   "cell_type": "code",
   "execution_count": 16,
   "id": "2225c55e",
   "metadata": {},
   "outputs": [
    {
     "name": "stdout",
     "output_type": "stream",
     "text": [
      "False\n"
     ]
    }
   ],
   "source": [
    "def songuyento(a):\n",
    "    b=0\n",
    "    for i in range(1,a+1): \n",
    "        if a%i==0:\n",
    "            b+=1\n",
    "            if b==2:\n",
    "                return True\n",
    "            return False\n",
    "print(songuyento(3))"
   ]
  },
  {
   "cell_type": "markdown",
   "id": "221103cf",
   "metadata": {},
   "source": [
    "Nhập vào 3 điểm toán, lý, hóa\n",
    "\n",
    "Hãy viết hàm in điểm trung bung bình rồi tính điểm trung bình của toán lý, toán hóa, lý hóa và toán lý hóa"
   ]
  },
  {
   "cell_type": "code",
   "execution_count": null,
   "id": "1ba1d8ae",
   "metadata": {},
   "outputs": [],
   "source": [
    "t = int(input(\"Hãy nhập điểm toán: \"))\n",
    "l = int(input(\"Hãy nhập điểm lý: \"))\n",
    "h = int(input(\"Hãy nhập điểm hoá: \"))\n",
    "def diemtrungbinh(diem1, diem2, diem3):\n",
    "    return (t+l+h)/3\n",
    "def diemtrungbinh2mon(diem1, diem2):\n",
    "    return (diem1+diem2)/2\n",
    "print(\"tBC\")\n",
    "    \n",
    "        "
   ]
  },
  {
   "cell_type": "markdown",
   "id": "50f43307",
   "metadata": {},
   "source": [
    "Viết hàm đếm số lượng từ của một chuỗi đưa vào"
   ]
  },
  {
   "cell_type": "code",
   "execution_count": 28,
   "id": "be785b29",
   "metadata": {},
   "outputs": [
    {
     "name": "stdout",
     "output_type": "stream",
     "text": [
      "Hãy nhập j đó: Hello các bạn\n"
     ]
    },
    {
     "data": {
      "text/plain": [
       "3"
      ]
     },
     "execution_count": 28,
     "metadata": {},
     "output_type": "execute_result"
    }
   ],
   "source": [
    "\n",
    "def soluongtu(a):\n",
    "    sotu = 0\n",
    "    for i in a:\n",
    "        if i == ' ':\n",
    "            sotu += 1\n",
    "    return (sotu + 1)\n",
    "soluongtu(input(\"Hãy nhập j đó: \"))\n",
    "        "
   ]
  },
  {
   "cell_type": "code",
   "execution_count": 25,
   "id": "11d3f3ad",
   "metadata": {},
   "outputs": [
    {
     "name": "stdout",
     "output_type": "stream",
     "text": [
      "chuỗi: Hello các bạn\n"
     ]
    },
    {
     "data": {
      "text/plain": [
       "1"
      ]
     },
     "execution_count": 25,
     "metadata": {},
     "output_type": "execute_result"
    }
   ],
   "source": [
    "def DemTu(a):\n",
    "    sp = 0\n",
    "    for i in a:\n",
    "        if i == '':\n",
    "            sp += 1\n",
    "    return sp+1\n",
    "DemTu(input('chuỗi: '))"
   ]
  },
  {
   "cell_type": "code",
   "execution_count": 26,
   "id": "09701682",
   "metadata": {},
   "outputs": [
    {
     "name": "stdout",
     "output_type": "stream",
     "text": [
      "Nhap chuoi: hello các\n",
      "2\n"
     ]
    }
   ],
   "source": [
    "def demtu(a):\n",
    "    a += \" \"\n",
    "    count = 0\n",
    "    for i in a:\n",
    "        if i==\" \":\n",
    "            count+=1\n",
    "    return count\n",
    "\n",
    "a = input(\"Nhap chuoi: \")\n",
    "print(demtu(a))"
   ]
  },
  {
   "cell_type": "markdown",
   "id": "b4adef40",
   "metadata": {},
   "source": [
    "Viết một hàm vẽ hình tròn, một hàm vẽ hình vuông và một hàm vẽ hình tam giác đều (giá trị đầu vào là a)\n",
    "\n",
    "Tất cả hàm này, bắt đầu từ 1 vị trí, sau khi vẽ ra, con trỏ sẽ tiến tới vị trí tiếp theo, cách vì đầu một khoảng a + 10 theo chiều x từ trái sang"
   ]
  },
  {
   "cell_type": "code",
   "execution_count": 31,
   "id": "e405d1d4",
   "metadata": {},
   "outputs": [],
   "source": [
    "def hinhtron(a):\n",
    "    import turtle\n",
    "    t = turtle.Turtle\n",
    "    t.circle(a)\n",
    "    t.penup()\n",
    "    t.fd(a + 10)\n",
    "    t.pendown\n",
    "def hinhvuong(a):\n",
    "    import turtle\n",
    "    t = turtle.Turtle\n",
    "    t.square(a)\n",
    "    t.penup()\n",
    "    t.fd(a + 10)\n",
    "    t.pendown\n",
    "def hinhvuong(a):\n",
    "    import turtle\n",
    "    t = turtle.Turtle\n",
    "    t.triangle(a)\n",
    "    t.penup()\n",
    "    t.fd(a + 10)\n",
    "    t.pendown"
   ]
  }
 ],
 "metadata": {
  "kernelspec": {
   "display_name": "Python 3 (ipykernel)",
   "language": "python",
   "name": "python3"
  },
  "language_info": {
   "codemirror_mode": {
    "name": "ipython",
    "version": 3
   },
   "file_extension": ".py",
   "mimetype": "text/x-python",
   "name": "python",
   "nbconvert_exporter": "python",
   "pygments_lexer": "ipython3",
   "version": "3.10.4"
  }
 },
 "nbformat": 4,
 "nbformat_minor": 5
}
