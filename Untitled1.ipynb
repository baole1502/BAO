{
 "cells": [
  {
   "cell_type": "code",
   "execution_count": null,
   "id": "a6051da1",
   "metadata": {},
   "outputs": [],
   "source": [
    "num = int(input(\"hãy nhập một số trong khoảng từ 1 đến 7\"))\n",
    "if num == 1:\n",
    "    print('Monday')\n",
    "if num == 2:\n",
    "    print(\"Tuesday\")\n",
    "if num == 3:\n",
    "    print('Wednesday')\n",
    "if num == 2:\n",
    "    print(\"Thursday\")\n",
    "if num == 1:\n",
    "    print('Friday')\n",
    "if num == 2:\n",
    "    print(\"Saturd\")"
   ]
  }
 ],
 "metadata": {
  "kernelspec": {
   "display_name": "Python 3 (ipykernel)",
   "language": "python",
   "name": "python3"
  },
  "language_info": {
   "codemirror_mode": {
    "name": "ipython",
    "version": 3
   },
   "file_extension": ".py",
   "mimetype": "text/x-python",
   "name": "python",
   "nbconvert_exporter": "python",
   "pygments_lexer": "ipython3",
   "version": "3.10.4"
  }
 },
 "nbformat": 4,
 "nbformat_minor": 5
}
