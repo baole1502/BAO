{
 "cells": [
  {
   "cell_type": "markdown",
   "id": "5bc93fb0",
   "metadata": {},
   "source": [
    "# Thực hành nhập xuất dữ liệu & chuỗi\n",
    "\n",
    "### Bài tập tra cứu lệnh\n",
    "\n",
    "Nhập vào một chuỗi, kiểm tra xem chuỗi đó có ký tự nào là chữ in hoa hay không, nếu có thì in True, không có thì in False"
   ]
  },
  {
   "cell_type": "code",
   "execution_count": null,
   "id": "4b3df2ba",
   "metadata": {},
   "outputs": [],
   "source": [
    "chuoi = input('Xin vui lòng nhập: ')\n",
    "x = chuoi.islower()\n",
    "if x == False:\n",
    "    a = True\n",
    "print(a)\n",
    "\n"
   ]
  },
  {
   "cell_type": "markdown",
   "id": "e14eae7c",
   "metadata": {},
   "source": [
    "Nhập vào một chuỗi, kiểm tra xem chuỗi đó có ký tự nào là chữ in thường hay không, nếu có thì in True, không có thì in False"
   ]
  },
  {
   "cell_type": "code",
   "execution_count": 27,
   "id": "ab00180c",
   "metadata": {},
   "outputs": [
    {
     "name": "stdout",
     "output_type": "stream",
     "text": [
      "Xin vui lòng nhập: Đáng ghét\n",
      "True\n"
     ]
    }
   ],
   "source": [
    "chuoi = input('Xin vui lòng nhập: ')\n",
    "x = chuoi.isupper()\n",
    "if x == False:\n",
    "    a = True\n",
    "print(a)"
   ]
  },
  {
   "cell_type": "markdown",
   "id": "eab86ecf",
   "metadata": {},
   "source": [
    "Nhập vào một chuỗi a và chuỗi b, tìm vị trí đầu tiên xuất hiện chuỗi b trong chuỗi a"
   ]
  },
  {
   "cell_type": "code",
   "execution_count": 66,
   "id": "ea7ab810",
   "metadata": {},
   "outputs": [
    {
     "name": "stdout",
     "output_type": "stream",
     "text": [
      "4\n",
      "4\n",
      "4\n"
     ]
    }
   ],
   "source": [
    "a = 'xin bạn lắng nghe điều tôi nói'\n",
    "b = 'bạn'\n",
    "print(a.index(b))\n",
    "print(a.rfind(b))\n",
    "print(a.find(b))"
   ]
  },
  {
   "cell_type": "markdown",
   "id": "9239bc4e",
   "metadata": {},
   "source": [
    "Nhập vào một chuỗi a, hãy xóa từ đầu tiên trong chuỗi a, rồi in ra màn hình"
   ]
  },
  {
   "cell_type": "code",
   "execution_count": null,
   "id": "90967cd9",
   "metadata": {},
   "outputs": [],
   "source": [
    "##Xoá TỪ đầu tiên trong a\n",
    "##thí dụ: Nhập vào: Xin chào các bạn --> Xoá chữ xin\n",
    "a = input('Nhập vào một chuỗi đi:')\n",
    "\n",
    "###Tìm dấu khoảng trắng đầu tiên trong chuỗi\n",
    "\n",
    "##Thí dụ: Xin chào các bạn --> Khoảng trắng đầu tiên nằm ở vị trí 3\n",
    "##Thí dụ: Chúng ta hôm này thật vui --> khoảng trắng đầu tiên nằm ở vị trí 5\n",
    "\n",
    "tim_khoang_trang = a.find()\n",
    "print(\"Vị trị khoảng trắng đầu tiên là:\",tim_khoang_trang)\n",
    "bo_ki_tu_dau_tien = a[tìm_khoang_trang+1]\n",
    "print(bo_ki_tu_dau_tien)"
   ]
  },
  {
   "cell_type": "markdown",
   "id": "05b74fb4",
   "metadata": {},
   "source": [
    "### Bài 1\n",
    "\n",
    "Nhập vào một chuỗi, đếm xem có bao nhiêu từ trong chuỗi kết thúc bằng chữ n"
   ]
  },
  {
   "cell_type": "code",
   "execution_count": null,
   "id": "6d2ef976",
   "metadata": {},
   "outputs": [],
   "source": []
  },
  {
   "cell_type": "code",
   "execution_count": 8,
   "id": "d126675c",
   "metadata": {},
   "outputs": [
    {
     "name": "stdout",
     "output_type": "stream",
     "text": [
      "Nhập vào một chuỗi:bạn lan\n",
      "2\n"
     ]
    }
   ],
   "source": [
    "a = input('Nhập vào một chuỗi:')\n",
    "a = a + ' '\n",
    "a = a.count('n ') + a.count('n!') + a.count('n@') + a.count('n.') + a.count('n,')\n",
    "print(a)"
   ]
  },
  {
   "cell_type": "markdown",
   "id": "53a78d35",
   "metadata": {},
   "source": [
    "### Bài 2\n",
    "\n",
    "Nhập vào một chuỗi, kiểm tra xem chuỗi đó có ký tự hoa hoặc ký tự thường hay không."
   ]
  },
  {
   "cell_type": "code",
   "execution_count": 9,
   "id": "f5be8c39",
   "metadata": {},
   "outputs": [
    {
     "name": "stdout",
     "output_type": "stream",
     "text": [
      "Hãy nhập vào một chuỗi: jupyter Notebook\n",
      "Chuỗi a có ký tự hoa hay không:  True\n",
      "Chuỗi a có ký tự thường hay không:  True\n"
     ]
    }
   ],
   "source": [
    "a = input(\"Hãy nhập vào một chuỗi: \")\n",
    "print(\"Chuỗi a có ký tự hoa hay không: \", not a.isupper())\n",
    "print(\"Chuỗi a có ký tự thường hay không: \", not a.islower())"
   ]
  },
  {
   "cell_type": "markdown",
   "id": "64ca662e",
   "metadata": {},
   "source": [
    "### Bài 3\n",
    "\n",
    "Nhập vào một chuỗi, kiểm tra tính đối xứng của chuỗi đó"
   ]
  },
  {
   "cell_type": "code",
   "execution_count": 55,
   "id": "749f4136",
   "metadata": {},
   "outputs": [
    {
     "name": "stdout",
     "output_type": "stream",
     "text": [
      "True\n"
     ]
    }
   ],
   "source": [
    "a = '123321'\n",
    "a1 = a[:len(a)//2]\n",
    "a2 = a[len(a)//2:]\n",
    "a2 = a2[::-1]\n",
    "print(a1 == a2)"
   ]
  },
  {
   "cell_type": "code",
   "execution_count": 52,
   "id": "9bc52e5a",
   "metadata": {},
   "outputs": [
    {
     "name": "stdout",
     "output_type": "stream",
     "text": [
      "str ing\n"
     ]
    }
   ],
   "source": [
    "s = \"string\"\n",
    "s1 = s[:len(s)//2]\n",
    "s2 = s[len(s)//2:]\n",
    "print(s1,s2)\n"
   ]
  },
  {
   "cell_type": "markdown",
   "id": "85dd8fef",
   "metadata": {},
   "source": [
    "### Bài 4\n",
    "\n",
    "Nhập vào một chuỗi, in ra các ký tự trong chuỗi và nếu là ký tự hoa thì in kèm True, ký tự thường thì in kèm False"
   ]
  },
  {
   "cell_type": "code",
   "execution_count": 26,
   "id": "0d099247",
   "metadata": {},
   "outputs": [
    {
     "name": "stdout",
     "output_type": "stream",
     "text": [
      "Nhập một chuỗi bất kì:alkjgblafk v\n",
      "a False\n",
      "l False\n",
      "k False\n",
      "j False\n",
      "g False\n",
      "b False\n",
      "l False\n",
      "a False\n",
      "f False\n",
      "k False\n",
      "  True\n",
      "v False\n"
     ]
    }
   ],
   "source": [
    "a = input('Nhập một chuỗi bất kì:')\n",
    "b = a.upper()\n",
    "k = 0\n",
    "for i in range(len(a)):\n",
    "    print(a[k],a[k]==b[k])\n",
    "    k += 1"
   ]
  },
  {
   "cell_type": "markdown",
   "id": "1373dc74",
   "metadata": {},
   "source": [
    "### Bài 5\n",
    "\n",
    "Nhập vào một chuỗi, tìm các ký tự chỉ xuất hiện một lần trong chuỗi (nếu xuất hiện 1 lần in true, xuất hiện nhiều lần in false)\n",
    "\n",
    "Ví dụ:\n",
    "\n",
    "Nhập chuỗi: \"ABAbc\"\n",
    "\n",
    "In:\n",
    "\n",
    "A: False\n",
    "\n",
    "B: True\n",
    "\n",
    "A: False\n",
    "\n",
    "b: True\n",
    "\n",
    "c: True"
   ]
  },
  {
   "cell_type": "code",
   "execution_count": null,
   "id": "a93bc53d",
   "metadata": {},
   "outputs": [],
   "source": [
    "a = input('Mời nhập chuỗi a:')\n",
    "k = 0\n",
    "for i in range(len(a)):\n",
    "    print(a[k],a.count(a[k])==1)\n",
    "    k += 1\n",
    "    "
   ]
  },
  {
   "cell_type": "code",
   "execution_count": 15,
   "id": "de9a5d83",
   "metadata": {},
   "outputs": [
    {
     "ename": "NameError",
     "evalue": "name 'test_str' is not defined",
     "output_type": "error",
     "traceback": [
      "\u001b[1;31m---------------------------------------------------------------------------\u001b[0m",
      "\u001b[1;31mNameError\u001b[0m                                 Traceback (most recent call last)",
      "Input \u001b[1;32mIn [15]\u001b[0m, in \u001b[0;36m<cell line: 3>\u001b[1;34m()\u001b[0m\n\u001b[0;32m      1\u001b[0m all_freq \u001b[38;5;241m=\u001b[39m {}\n\u001b[1;32m----> 3\u001b[0m \u001b[38;5;28;01mfor\u001b[39;00m i \u001b[38;5;129;01min\u001b[39;00m \u001b[43mtest_str\u001b[49m:\n\u001b[0;32m      4\u001b[0m     \u001b[38;5;28;01mif\u001b[39;00m i \u001b[38;5;129;01min\u001b[39;00m all_freq:\n\u001b[0;32m      5\u001b[0m         all_freq[i] \u001b[38;5;241m+\u001b[39m\u001b[38;5;241m=\u001b[39m \u001b[38;5;241m1\u001b[39m\n",
      "\u001b[1;31mNameError\u001b[0m: name 'test_str' is not defined"
     ]
    }
   ],
   "source": [
    "all_freq = {}\n",
    "  \n",
    "for i in test_str:\n",
    "    if i in all_freq:\n",
    "        all_freq[i] += 1\n",
    "    else:\n",
    "        all_freq[i] = 1\n",
    "print (\"Count of all characters in GeeksforGeeks is :\\n \",str(all_freq))"
   ]
  },
  {
   "cell_type": "code",
   "execution_count": 24,
   "id": "8811c8f6",
   "metadata": {},
   "outputs": [
    {
     "name": "stdout",
     "output_type": "stream",
     "text": [
      "Nhập gì đó đi nè:hello\n",
      "M - 1\n",
      "y - 1\n",
      "  - 3\n",
      "n - 1\n",
      "a - 2\n",
      "m - 1\n",
      "e - 1\n",
      "i - 1\n",
      "s - 1\n",
      "B - 1\n",
      "o - 1\n"
     ]
    }
   ],
   "source": [
    "a = input(\"Nhập gì đó đi nè:\")\n",
    "b={}\n",
    "for i in a:\n",
    " if i not in a:\n",
    "  b[i]=a.count(i)\n",
    " else:\n",
    "  pass\n",
    "for k in d:\n",
    "  print(k,\"-\",d[k])\n"
   ]
  },
  {
   "cell_type": "markdown",
   "id": "69bebf4c",
   "metadata": {},
   "source": [
    "### Bài 6\n",
    "\n",
    "Nhập vào một chuỗi, kiểm tra trong chuỗi có con số hay không, nếu có in True, không có in False"
   ]
  },
  {
   "cell_type": "code",
   "execution_count": 10,
   "id": "1b4eab4f",
   "metadata": {},
   "outputs": [
    {
     "name": "stdout",
     "output_type": "stream",
     "text": [
      "Nhập chuỗi: 1234\n",
      "True\n"
     ]
    }
   ],
   "source": [
    "a = input('Nhập chuỗi: ')\n",
    "k = 0\n",
    "b = 0\n",
    "for i in range(10):\n",
    "    b += a.count(str(k))\n",
    "    k += 1 \n",
    "print(b != 0)"
   ]
  },
  {
   "cell_type": "markdown",
   "id": "1e51403c",
   "metadata": {},
   "source": [
    "### Bài 7\n",
    "\n",
    "Nhập vào một chuỗi, tách những con số có trong chuỗi ra rồi tính tổng của chúng\n",
    "\n",
    "In tổng lên màn hình"
   ]
  },
  {
   "cell_type": "code",
   "execution_count": 11,
   "id": "a34e349d",
   "metadata": {},
   "outputs": [
    {
     "name": "stdout",
     "output_type": "stream",
     "text": [
      "123\n",
      "6\n"
     ]
    }
   ],
   "source": [
    "a =input()\n",
    "b = 0\n",
    "k = 0\n",
    "for i in range(10):\n",
    "\tb += k * a.count(str(k))\n",
    "\tk += 1\n",
    "print(b)"
   ]
  },
  {
   "cell_type": "markdown",
   "id": "e951779d",
   "metadata": {},
   "source": [
    "### Bài 8\n",
    "\n",
    "Nhập vào một chuỗi, đảo ngược chuỗi đã nhập rồi in ra màn hình"
   ]
  },
  {
   "cell_type": "code",
   "execution_count": 9,
   "id": "9305f0f1",
   "metadata": {},
   "outputs": [
    {
     "name": "stdout",
     "output_type": "stream",
     "text": [
      "Type in something: 123\n",
      "321\n"
     ]
    }
   ],
   "source": [
    "a = input('Type in something: ')\n",
    "print(a[::-1])"
   ]
  },
  {
   "cell_type": "markdown",
   "id": "04194b5c",
   "metadata": {},
   "source": [
    "### Bài 9\n",
    "\n",
    "Nhập vào một chuỗi, kiểm tra xem mỗi từ trong chuỗi có được viết hoa chữ cái đầu hay không, nếu tất cả đều được viết hoa thì in ra True, còn không thì in ra False\n",
    "\n",
    "Trong trường hợp là False, hãy viết hoa tất cả các chữ cái đầu của mỗi từ rồi in lên màn hình\n",
    "\n",
    "Cách làm thông thường:"
   ]
  },
  {
   "cell_type": "code",
   "execution_count": 12,
   "id": "9f947c7d",
   "metadata": {},
   "outputs": [
    {
     "name": "stdout",
     "output_type": "stream",
     "text": [
      "Type in smt: hello Teacher\n",
      "False\n",
      "Hello Teacher\n"
     ]
    }
   ],
   "source": [
    "a = input('Type in smt: ')\n",
    "print(a.istitle())\n",
    "print(a.title())"
   ]
  },
  {
   "cell_type": "markdown",
   "id": "f43e32af",
   "metadata": {},
   "source": [
    "Cách sử dụng lệnh có sẵn:"
   ]
  },
  {
   "cell_type": "code",
   "execution_count": null,
   "id": "714f1412",
   "metadata": {},
   "outputs": [],
   "source": []
  }
 ],
 "metadata": {
  "kernelspec": {
   "display_name": "Python 3 (ipykernel)",
   "language": "python",
   "name": "python3"
  },
  "language_info": {
   "codemirror_mode": {
    "name": "ipython",
    "version": 3
   },
   "file_extension": ".py",
   "mimetype": "text/x-python",
   "name": "python",
   "nbconvert_exporter": "python",
   "pygments_lexer": "ipython3",
   "version": "3.10.4"
  }
 },
 "nbformat": 4,
 "nbformat_minor": 5
}
