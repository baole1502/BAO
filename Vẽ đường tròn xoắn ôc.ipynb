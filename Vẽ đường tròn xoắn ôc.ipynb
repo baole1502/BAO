{
 "cells": [
  {
   "cell_type": "code",
   "execution_count": null,
   "id": "d21f4169",
   "metadata": {},
   "outputs": [
    {
     "name": "stdout",
     "output_type": "stream",
     "text": [
      "Hãy nhập vào giá trị chặn mong muốn: 100\n"
     ]
    }
   ],
   "source": [
    "import turtle\n",
    "t = turtle.Turtle()\n",
    "giatrichan = int(input('Hãy nhập vào giá trị chặn mong muốn: '))\n",
    "n=1\n",
    "tu = t.goto(0,0)\n",
    "while True:\n",
    "    t.fd(n)\n",
    "    t.lt(30)\n",
    "    n+=0.5\n",
    "    if t.distance(t,tu) > giatrichan:\n",
    "        break\n",
    "    else:\n",
    "        continue"
   ]
  }
 ],
 "metadata": {
  "kernelspec": {
   "display_name": "Python 3 (ipykernel)",
   "language": "python",
   "name": "python3"
  },
  "language_info": {
   "codemirror_mode": {
    "name": "ipython",
    "version": 3
   },
   "file_extension": ".py",
   "mimetype": "text/x-python",
   "name": "python",
   "nbconvert_exporter": "python",
   "pygments_lexer": "ipython3",
   "version": "3.10.4"
  }
 },
 "nbformat": 4,
 "nbformat_minor": 5
}
