{
 "cells": [
  {
   "cell_type": "markdown",
   "id": "1c805421",
   "metadata": {},
   "source": [
    "# Lớp và đối tượng\n",
    "\n",
    "### Lớp (class) là gì?\n",
    "\n",
    "Lớp (Class) là tập hợp tất cả các đối tượng có chung các thuộc tính và hành vi."
   ]
  },
  {
   "cell_type": "markdown",
   "id": "812bf15e",
   "metadata": {},
   "source": [
    "### Khai báo lớp\n",
    "\n",
    "`class <tên lớp>:\n",
    "    <khai báo biến>\n",
    "    <khai báo hàm>`\n",
    "    \n",
    "Ví dụ:\n",
    "\n",
    "`class giangvien:\n",
    "    ten = \"Nguyễn Tâm Điền\"\n",
    "    mon = \"Python căn bản\"\n",
    "    def inten(self):\n",
    "        print(self.ten)        \n",
    "dien = giangvien()\n",
    "print(dien.mon)\n",
    "dien.inten()`\n",
    "\n",
    "##### Lưu ý:\n",
    "\n",
    "- giangvien là 1 lớp\n",
    "- dien là 1 đối tượng có tất cả thuộc tính (có biến ten, mon và hàm inten) của lớp giangvien\n",
    "- inten là 1 hàm trong lớp giangvien\n",
    "- dien.mon là 1 biến trong đối tượng dien\n",
    "- dien.inten() là cách để gọi hàm inten trong đối tượng dien\n",
    "\n",
    "\n",
    "<b> Hãy chạy thử đoạn lệnh ở ví dụ: </b>"
   ]
  },
  {
   "cell_type": "code",
   "execution_count": null,
   "id": "40598ff8",
   "metadata": {},
   "outputs": [],
   "source": [
    "class giangvien():\n",
    "    ten = 'Nguyen Tam Dien'\n",
    "    tuoi = 32\n",
    "    def day(self):\n",
    "        print(self.ten,'Dang day')\n",
    "Giangvien_Dien = Giangvien()\n",
    "Giangvien_Binh = Giangvien()\n",
    "Giangvien_Binh = 'Vo Thanh Binh'\n",
    "Giangvien_Binh.tuoi = 28\n",
    "Giangvien_binhf.day()\n",
    "print(Giangvien_Dien.ten)"
   ]
  },
  {
   "cell_type": "markdown",
   "id": "6c4daedf",
   "metadata": {},
   "source": [
    "<b> Hãy tạo 1 class hocvien với 1 biến và 1 def giúp in giá trị biến đó ra màn hình </b>"
   ]
  },
  {
   "cell_type": "code",
   "execution_count": 4,
   "id": "5358318d",
   "metadata": {},
   "outputs": [
    {
     "name": "stdout",
     "output_type": "stream",
     "text": [
      "Ten Le Phuong Ngoc Bao \n",
      "Tuoi 15\n",
      "Ten Le Phuong Ngoc Bao \n",
      "Tuoi 15\n"
     ]
    },
    {
     "ename": "AttributeError",
     "evalue": "'hocvien' object has no attribute 'diem'",
     "output_type": "error",
     "traceback": [
      "\u001b[1;31m---------------------------------------------------------------------------\u001b[0m",
      "\u001b[1;31mAttributeError\u001b[0m                            Traceback (most recent call last)",
      "Input \u001b[1;32mIn [4]\u001b[0m, in \u001b[0;36m<cell line: 18>\u001b[1;34m()\u001b[0m\n\u001b[0;32m     16\u001b[0m ngocten \u001b[38;5;241m=\u001b[39m \u001b[38;5;124m'\u001b[39m\u001b[38;5;124mNgoc Pham\u001b[39m\u001b[38;5;124m'\u001b[39m\n\u001b[0;32m     17\u001b[0m ngoc\u001b[38;5;241m.\u001b[39minThongTin()\n\u001b[1;32m---> 18\u001b[0m \u001b[43mngoc\u001b[49m\u001b[38;5;241;43m.\u001b[39;49m\u001b[43mdanhGiaNangLuc\u001b[49m\u001b[43m(\u001b[49m\u001b[43m)\u001b[49m\n",
      "Input \u001b[1;32mIn [4]\u001b[0m, in \u001b[0;36mhocvien.danhGiaNangLuc\u001b[1;34m(self)\u001b[0m\n\u001b[0;32m      7\u001b[0m \u001b[38;5;28;01mdef\u001b[39;00m \u001b[38;5;21mdanhGiaNangLuc\u001b[39m(\u001b[38;5;28mself\u001b[39m):\n\u001b[1;32m----> 8\u001b[0m     \u001b[38;5;28;01mif\u001b[39;00m \u001b[38;5;28;43mself\u001b[39;49m\u001b[38;5;241;43m.\u001b[39;49m\u001b[43mdiem\u001b[49m \u001b[38;5;241m>\u001b[39m \u001b[38;5;241m5\u001b[39m:\n\u001b[0;32m      9\u001b[0m         \u001b[38;5;28mprint\u001b[39m(\u001b[38;5;124m'\u001b[39m\u001b[38;5;124mDat\u001b[39m\u001b[38;5;124m'\u001b[39m)\n\u001b[0;32m     10\u001b[0m     \u001b[38;5;28;01melse\u001b[39;00m:\n",
      "\u001b[1;31mAttributeError\u001b[0m: 'hocvien' object has no attribute 'diem'"
     ]
    }
   ],
   "source": [
    "class hocvien():\n",
    "    ten = 'Le Phuong Ngoc Bao '\n",
    "    tuoi = 15\n",
    "    def inThongTin(self):\n",
    "        print('Ten', self.ten)\n",
    "        print('Tuoi',self.tuoi)\n",
    "    def danhGiaNangLuc(self):\n",
    "        if self.diem > 5:\n",
    "            print('Dat')\n",
    "        else:\n",
    "            print('khong Dat')\n",
    "    def setDiem(self,diem):  \n",
    "        if 0 <= diem <= 10:\n",
    "            \n",
    "hoan = hocvien()\n",
    "hoan.inThongTin()\n",
    "ngoc = hocvien()\n",
    "ngocten = 'Ngoc Pham'\n",
    "ngoc.inThongTin()\n",
    "ngoc.danhGiaNangLuc()"
   ]
  },
  {
   "cell_type": "markdown",
   "id": "b2481280",
   "metadata": {},
   "source": [
    "### Tham số self\n",
    "\n",
    "Tham số self là tham số được sử dụng khi khai báo các hàm trong lớp\n",
    "\n",
    "Tham số self miêu tả chính lớp ta đang xây dựng, giúp chúng ta sử dụng được những biến và hàm của lớp đó\n",
    "\n",
    "Ví dụ:\n",
    "\n",
    "`class giangvien:\n",
    "    ten = \"Nguyễn Tâm Điền\"\n",
    "    mon = \"Python căn bản\"\n",
    "    def doiten(self,ten):\n",
    "        self.ten = ten\n",
    "    def inten(self):\n",
    "        print(self.ten)        \n",
    "dien = giangvien()\n",
    "dien.doiten(\"NTD\")\n",
    "dien.inten()`\n",
    "\n",
    "Sau khi thực hiện đoạn code trên, giá trị của biến ten trong đối tượng dien đã bị thay đổi thành \"NTD\"\n",
    "\n",
    "<b> Hãy chạy thử đoạn lệnh ở ví dụ: </b>"
   ]
  },
  {
   "cell_type": "code",
   "execution_count": null,
   "id": "fd2f5d7c",
   "metadata": {},
   "outputs": [],
   "source": []
  },
  {
   "cell_type": "markdown",
   "id": "4dfd8d1d",
   "metadata": {},
   "source": [
    "<b> Hãy thêm 1 def vào class hocvien giúp thay đổi giá trị biến bất kỳ trong class </b>"
   ]
  },
  {
   "cell_type": "code",
   "execution_count": null,
   "id": "98d911c0",
   "metadata": {},
   "outputs": [],
   "source": []
  },
  {
   "cell_type": "markdown",
   "id": "b2909dd4",
   "metadata": {},
   "source": [
    "### Hàm \\_\\_init__\n",
    "\n",
    "Hàm \\_\\_init__ là hàm khởi tạo\n",
    "\n",
    "Ví dụ:\n",
    "\n",
    "`class giangvien:\n",
    "    def __init__(self,ten,mon):\n",
    "        self.ten = ten\n",
    "        self.mon = mon\n",
    "    def doiten(self,ten):\n",
    "        self.ten = ten\n",
    "    def inten(self):\n",
    "        print(self.ten)   \n",
    "dien = giangvien(\"Điền\",\"Python căn bản\")\n",
    "thang = giangvien(\"Thắng\",\"Python siêu cấp\")\n",
    "dien.inten()\n",
    "thang.inten()`\n",
    "\n",
    "<b> Hãy chạy thử đoạn lệnh ở ví dụ: </b>"
   ]
  },
  {
   "cell_type": "code",
   "execution_count": 9,
   "id": "f15266fb",
   "metadata": {},
   "outputs": [
    {
     "name": "stdout",
     "output_type": "stream",
     "text": [
      "Ten: NTD\n",
      "Tuoi: 30\n"
     ]
    }
   ],
   "source": [
    "class GiangVien():\n",
    "    ten = 'Nguyen Tam Dien'\n",
    "    tuoi = 32\n",
    "    def __init__(self,ten,tuoi):\n",
    "        self.ten = ten\n",
    "        self.tuoi = tuoi\n",
    "    def inThongTin(self):\n",
    "        print('Ten:',self.ten)\n",
    "        print('Tuoi:',self.tuoi)\n",
    "    def day(self):\n",
    "        print(self.ten,'dang day')\n",
    "GiangVien_Dien = GiangVien('NTD',30)\n",
    "GiangVien_Binh = GiangVien('Vo Thanh Binh',29)\n",
    "\n",
    "GiangVien_Dien.inThongTin()"
   ]
  },
  {
   "cell_type": "markdown",
   "id": "9064cc0a",
   "metadata": {},
   "source": [
    "<b> Hãy thêm 1 def \\_\\_init__ vào class hocvien để khởi tạo tên và tuổi của học viên </b>"
   ]
  },
  {
   "cell_type": "code",
   "execution_count": null,
   "id": "3e6a0dae",
   "metadata": {},
   "outputs": [],
   "source": [
    "\n"
   ]
  },
  {
   "cell_type": "markdown",
   "id": "d137f2f5",
   "metadata": {},
   "source": [
    "### Bài tập"
   ]
  },
  {
   "cell_type": "markdown",
   "id": "d243726c",
   "metadata": {},
   "source": [
    "Hãy xây dựng 1 class hình tròn có các thuộc tính sau:\n",
    "\n",
    "- biến x và y chứa tọa độ tâm đường tròn\n",
    "- biến r chứa bán kính đường chọn\n",
    "- hàm draw: để vẽ đường tròn"
   ]
  },
  {
   "cell_type": "code",
   "execution_count": 11,
   "id": "4121525f",
   "metadata": {},
   "outputs": [],
   "source": [
    "class vehinhtron():\n",
    "    x = 0\n",
    "    y = 0\n",
    "    r = 0\n",
    "    def _init__(self,x,y,r):\n",
    "        self.x = x\n",
    "        self.y = y\n",
    "        self.r = r\n",
    "    def ve(self):\n",
    "        import Turtle\n",
    "        t = turtle.Turtle()\n",
    "        t.goto(x,y)\n",
    "        t.circle(r)"
   ]
  },
  {
   "cell_type": "markdown",
   "id": "9017050f",
   "metadata": {},
   "source": [
    "Tạo một lớp phân số có các thuộc tính:\n",
    "\n",
    "- biến tử số và mẫu số\n",
    "- hàm cong: để cộng với một đối tượng khác có lớp phân số rồi trả về dối tượng có phân số mới\n",
    "- hàm tru: để trừ với một đối tượng khác có lớp phân số rồi trả về dối tượng có phân số mới\n",
    "- hàm nhan: để nhân với một đối tượng khác có lớp phân số rồi trả về dối tượng có phân số mới\n",
    "- hàm chia: để chia với một đối tượng khác có lớp phân số rồi trả về dối tượng có phân số mới\n",
    "- hàm toigian: để tối giản phân số rồi trả về dối tượng có phân số mới"
   ]
  },
  {
   "cell_type": "code",
   "execution_count": null,
   "id": "2ae72d93",
   "metadata": {},
   "outputs": [],
   "source": []
  },
  {
   "cell_type": "markdown",
   "id": "39a8cb80",
   "metadata": {},
   "source": [
    "Viết class NhanVien gồm các thuộc tính:\n",
    "\n",
    "<b> Các biến </b>\n",
    "\n",
    "- Tên\n",
    "- Tuổi\n",
    "- Địa chỉ\n",
    "- Tiền lương\n",
    "- Tổng số giờ làm\n",
    "\n",
    "<b> Các hàm </b>\n",
    "\n",
    "- nhap : Nhập các thông tin cho nhân viên từ bàn phím\n",
    "- in : In ra tất cả các thông tin của nhân viên\n",
    "- thuong: Tính toán và trả về số tiền thưởng của nhân viên theo công thức sau:\n",
    "\n",
    "    Nếu tổng số giờ làm của nhân viên >=200 thì thưởng = lương * 20%\n",
    "    \n",
    "    Nếu tổng số giờ làm của nhân viên <200 và >=100 thì thưởng = lương * 10%\n",
    "    \n",
    "    Nếu tổng số giờ làm của nhân viên <100 thì thưởng = 0"
   ]
  },
  {
   "cell_type": "code",
   "execution_count": 21,
   "id": "26d12a44",
   "metadata": {},
   "outputs": [
    {
     "name": "stdout",
     "output_type": "stream",
     "text": [
      "Nhậptên:bao\n",
      "Nhậptuổi:15\n",
      "NhậpĐịa chỉ:123\n",
      "NhậpTiền Lương:123\n",
      "NhậpTổng số giờ làm:13\n",
      "0\n"
     ]
    }
   ],
   "source": [
    "class nhanvien:\n",
    "    def nhap(self):\n",
    "        self.D_data = {\"tên\":\"\",\"tuổi\":0,\"Địa chỉ\":\"\",\"Tiền Lương\":0,\"Tổng số giờ làm\":0}        \n",
    "        for i in self.D_data:\n",
    "            self.D_data[i] = input('Nhập' + i + ':')\n",
    "            if self.D_data[i].isnumeric(): self.D_data[i] = int(self.D_data[i])\n",
    "    def inThongtin(self):\n",
    "        for i in self.D_data:\n",
    "            print(i + ':' + self.D_data[i])\n",
    "    def thuong(self):\n",
    "        if self.D_data[\"Tổng số giờ làm\"] >= 200:\n",
    "            tienthuong = self.D_data[\"Tiền Lương\"] * 0.2\n",
    "        elif 100<= self.D_data[\"Tổng số giờ làm\"] <= 200:\n",
    "            tienthuong = self.D_data[\"Tiền Lương\"] * 0.1\n",
    "        elif self.D_data[\"Tổng số giờ làm\"] < 100:\n",
    "            tienthuong = 0\n",
    "        return tienthuong\n",
    "\n",
    "NV1 = nhanvien()\n",
    "NV1.nhap()\n",
    "print(NV1.thuong())"
   ]
  }
 ],
 "metadata": {
  "kernelspec": {
   "display_name": "Python 3 (ipykernel)",
   "language": "python",
   "name": "python3"
  },
  "language_info": {
   "codemirror_mode": {
    "name": "ipython",
    "version": 3
   },
   "file_extension": ".py",
   "mimetype": "text/x-python",
   "name": "python",
   "nbconvert_exporter": "python",
   "pygments_lexer": "ipython3",
   "version": "3.10.4"
  }
 },
 "nbformat": 4,
 "nbformat_minor": 5
}
