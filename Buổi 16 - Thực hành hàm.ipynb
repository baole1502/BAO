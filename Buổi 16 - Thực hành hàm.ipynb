{
 "cells": [
  {
   "cell_type": "markdown",
   "id": "028ffec3",
   "metadata": {},
   "source": [
    "# Thực hành hàm\n",
    "\n",
    "### Bài 1\n",
    "\n",
    "Viết hàm có dữ liệu đầu vào là 2 số a và b, số nào lớn hơn thì in bảng cửu chương của số đó"
   ]
  },
  {
   "cell_type": "code",
   "execution_count": 4,
   "id": "1974966b",
   "metadata": {},
   "outputs": [
    {
     "name": "stdout",
     "output_type": "stream",
     "text": [
      "Nhập số a:2\n",
      "Nhập số b:3\n",
      "3 x 0 = 0\n",
      "3 x 1 = 2\n",
      "3 x 2 = 4\n",
      "3 x 3 = 6\n",
      "3 x 4 = 8\n",
      "3 x 5 = 10\n",
      "3 x 6 = 12\n",
      "3 x 7 = 14\n",
      "3 x 8 = 16\n",
      "3 x 9 = 18\n",
      "3 x 10 = 20\n"
     ]
    }
   ],
   "source": [
    "a = int(input(\"Nhập số a:\"))\n",
    "b = int(input(\"Nhập số b:\"))\n",
    "def bangcuuchuong(a,b):\n",
    "    if a > b:\n",
    "        for i in range(11):\n",
    "            print(a, \"x\",i, '=',a*i)\n",
    "    else:\n",
    "        for i in range(11):\n",
    "            print(b,'x',i, '=',a*i)\n",
    "bangcuuchuong(a,b)"
   ]
  },
  {
   "cell_type": "markdown",
   "id": "9de8ffaa",
   "metadata": {},
   "source": [
    "### Bài 2\n",
    "\n",
    "Viết hàm `xoachuoi` có dữ liệu đầu vào là 2 chuỗi a và b, hãy tìm trong chuỗi a có chuỗi b hay không, nếu có hãy xóa toán bộ chuỗi b trong a.\n",
    "\n",
    "Sau đó trả về chuỗi a mới\n",
    "\n",
    "Ví dụ:\n",
    "\n",
    "chuoi1 = \"xin chào các bạn, các bạn có khỏe không?\"\n",
    "\n",
    "chuoi2 = \"các bạn\"\n",
    "\n",
    "chuoi3 = xoachuoi(chuoi1,chuoi2)\n",
    "\n",
    "print(chuoi3)\n",
    "\n",
    "Kết quả in ra là:\n",
    "xin chào ,  có khỏe không"
   ]
  },
  {
   "cell_type": "code",
   "execution_count": 40,
   "id": "05de1584",
   "metadata": {},
   "outputs": [
    {
     "name": "stdout",
     "output_type": "stream",
     "text": [
      "Hãy nhập a: xyz abc\n",
      "Hãy nhập b: aa\n",
      "xyz abc\n"
     ]
    }
   ],
   "source": [
    "chuoi1 = str(input('Hãy nhập a: '))\n",
    "chuoi2 = str(input('Hãy nhập b: '))\n",
    "b = chuoi1\n",
    "def xoachuoi(chuoi1,chuoi2):\n",
    "    x = chuoi1.replace(chuoi2, \"\") \n",
    "    if x != b:\n",
    "        print(x) \n",
    "    else:\n",
    "        print(chuoi1)\n",
    "xoachuoi(chuoi1,chuoi2)"
   ]
  },
  {
   "cell_type": "code",
   "execution_count": null,
   "id": "86e7b54e",
   "metadata": {},
   "outputs": [],
   "source": [
    "def xoachuoi(chuoi1, chuoi2):\n",
    "    a = len(chuoi1)\n",
    "    b = len(chuoi2)\n",
    "    for i in range(a - b):\n",
    "        if chuoi1[i:i+b] == chuoi2:\n",
    "            chuoi1 = chuoi1[:i] + chuoi1[i+b:]\n",
    "    return chuoi1\n",
    "\n",
    "chuoi3 = xoachuoi(chuoi1,chuoi2)\n",
    "print(chuoi3)\n"
   ]
  },
  {
   "cell_type": "code",
   "execution_count": 7,
   "id": "8b1dfb30",
   "metadata": {},
   "outputs": [
    {
     "name": "stdout",
     "output_type": "stream",
     "text": [
      "Hãy nhập vào chuỗi 1: bạn có khoẻ không bạn\n",
      "Hãy nhập vào chuỗi 2: bạn\n",
      " có khoẻ không \n"
     ]
    }
   ],
   "source": [
    "chuoi1 = input(\"Hãy nhập vào chuỗi 1: \")\n",
    "chuoi2 = input(\"Hãy nhập vào chuỗi 2: \")\n",
    "def xoachuoi(chuoi1, chuoi2):\n",
    "    a = len(chuoi1)\n",
    "    b = len(chuoi2)\n",
    "    for i in range(a-b):\n",
    "        if chuoi1[i:i+b] == chuoi2:\n",
    "            chuoi1 = chuoi1[:i]+chuoi1[i+b:]\n",
    "    return chuoi1\n",
    "\n",
    "chuoitam = xoachuoi(chuoi1, chuoi2)\n",
    "print(chuoitam)\n"
   ]
  },
  {
   "cell_type": "markdown",
   "id": "d626394e",
   "metadata": {},
   "source": [
    "### Bài 3\n",
    "\n",
    "Viết hàm `kiemtramatkhau` với dữ liệu đầu vào là 1 chuỗi có công dụng như sau:\n",
    "\n",
    "Kiểm tra xem chuỗi đầu vào có phải là mật khẩu mạnh hay không, nếu có trả về True, nếu không trả về False\n",
    "\n",
    "Mật khẩu mạnh là mật khẩu phải có ít nhất 1 chữ hoa, 1 chữ thường, 1 số và 1 ký tự đặc biệt"
   ]
  },
  {
   "cell_type": "code",
   "execution_count": 8,
   "id": "875d88f5",
   "metadata": {},
   "outputs": [
    {
     "name": "stdout",
     "output_type": "stream",
     "text": [
      "Hãy nhập một chuỗi mật khẩu: Dichduongthienti123@\n"
     ]
    },
    {
     "data": {
      "text/plain": [
       "'True'"
      ]
     },
     "execution_count": 8,
     "metadata": {},
     "output_type": "execute_result"
    }
   ],
   "source": [
    "a = str(input(\"Hãy nhập một chuỗi mật khẩu: \"))\n",
    "def kiemtramatkhau(a):\n",
    "    if a.islower() == False:\n",
    "        if a.islower() == False:\n",
    "            if a.isidentifier() == False:\n",
    "                if a.isnumeric() == False:\n",
    "                    if a.isdigit() == False:\n",
    "                        return (\"True\")\n",
    "                else:\n",
    "                    return (\"MẬT MÃ YẾU\")\n",
    "            else:\n",
    "                return (\"MẬT MÃ YẾU\")\n",
    "        else:\n",
    "            return ('MẬT MÃ YẾU')\n",
    "    else:\n",
    "        return ('MẬT MÃ YẾU')\n",
    "kiemtramatkhau(a)\n"
   ]
  },
  {
   "cell_type": "markdown",
   "id": "1572568f",
   "metadata": {},
   "source": [
    "### Bài 4\n",
    "\n",
    "Viết hàm có 5 dữ liệu đầu vào là 5 số nguyên, tìm giá trị lớn nhì trong 5 số đó"
   ]
  },
  {
   "cell_type": "code",
   "execution_count": 43,
   "id": "9caf9362",
   "metadata": {},
   "outputs": [
    {
     "name": "stdout",
     "output_type": "stream",
     "text": [
      "Hãy nhập một chuỗi: 1 a 2 b 3 c \n"
     ]
    },
    {
     "data": {
      "text/plain": [
       "2"
      ]
     },
     "execution_count": 43,
     "metadata": {},
     "output_type": "execute_result"
    }
   ],
   "source": [
    "in_str = input(\"Hãy nhập một chuỗi: \")\n",
    "def secondlargestNumber(in_str):\n",
    "    l=[int(a) for a in in_str.split() if a.isdigit()]\n",
    "    tam= in_str.replace(str(max(l)),'')\n",
    "    l=[int(a) for a in tam.split() if a.isdigit()]\n",
    "    return max(l)\n",
    "secondlargestNumber(in_str)"
   ]
  },
  {
   "cell_type": "code",
   "execution_count": 11,
   "id": "2e1799fb",
   "metadata": {},
   "outputs": [
    {
     "name": "stdout",
     "output_type": "stream",
     "text": [
      "7\n"
     ]
    }
   ],
   "source": [
    "def ham4(a,b,c,d,e):\n",
    "    if a <b:\n",
    "        a,b=b,a\n",
    "    if a<c:\n",
    "        a,c=c,a\n",
    "    if a<d:\n",
    "        a,d=d,a\n",
    "    if a<e:\n",
    "        a,e= e,a\n",
    "    if b<c:\n",
    "        b,c=c,a\n",
    "    if b<d:\n",
    "        b,d=d,b\n",
    "    if b<e:\n",
    "        b,e=e,b\n",
    "    return b\n",
    "print(ham4(7,8,5,4,3))"
   ]
  },
  {
   "cell_type": "markdown",
   "id": "974d7da1",
   "metadata": {},
   "source": [
    "### Bài 5\n",
    "\n",
    "Nhập vào 2 cặp tọa độ tâm đường tròn và 2 bán kính R\n",
    "\n",
    "Hãy vẽ 2 hình tròn theo tọa độ và bán kính trên (tọa độ thứ nhất và bán kính thứ nhất là hình tròn thứ nhất, tọa độ thứ 2 với bán kính thứ 2 là hình tròn thứ hai)\n",
    "\n",
    "Viết hàm kiểm tra xem 2 hình tròn trên cắt nhau bao nhiêu điểm"
   ]
  },
  {
   "cell_type": "code",
   "execution_count": 3,
   "id": "f7722021",
   "metadata": {},
   "outputs": [
    {
     "name": "stdout",
     "output_type": "stream",
     "text": [
      "Hãy nhập toạ độ của x số 1:0\n",
      "Hãy nhập toạ độ của y số 1:0\n",
      "Hãy nhập bán kính đường tròn số 1:50\n",
      "Hãy nhập toạ độ của x số 2:10\n",
      "Hãy nhập toạ độ của y số 2:10\n",
      "Hãy nhập bán kính đường tròn số 2:50\n"
     ]
    },
    {
     "data": {
      "text/plain": [
       "2"
      ]
     },
     "execution_count": 3,
     "metadata": {},
     "output_type": "execute_result"
    }
   ],
   "source": [
    "import turtle\n",
    "t = turtle.Turtle()\n",
    "def hinhtron(a,b,c):\n",
    "    t.pu()\n",
    "    t.goto(a,b)\n",
    "    t.pd()\n",
    "    t.circle(c)\n",
    "def ham5(a1,b1,c1,a2,b2,c2):\n",
    "    d = ((a1-a2)**2+(b1-b2)**2)**(1/2)##khoảng cách giữa 2 tâm\n",
    "    if d > c1 + c2:\n",
    "        return 0 \n",
    "    if d == c1 + c2:\n",
    "        return 1\n",
    "    if d == abs(c1-c2):\n",
    "        return 1\n",
    "    if d < abs(c1-c2):\n",
    "        return 0\n",
    "    if d == 0 and r1 == r2:\n",
    "        return -k\n",
    "    return 2\n",
    "a1 = int(input(\"Hãy nhập toạ độ của x số 1:\"))\n",
    "b1 = int(input(\"Hãy nhập toạ độ của y số 1:\"))\n",
    "c1 = int(input(\"Hãy nhập bán kính đường tròn số 1:\"))\n",
    "a2 = int(input(\"Hãy nhập toạ độ của x số 2:\"))\n",
    "b2 = int(input(\"Hãy nhập toạ độ của y số 2:\"))\n",
    "c2 = int(input(\"Hãy nhập bán kính đường tròn số 2:\"))\n",
    "hinhtron(a1,b1,c1)\n",
    "hinhtron(a2,b2,c2)\n",
    "ham5(a1,b1,c1,a2,b2,c2)\n",
    "    "
   ]
  },
  {
   "cell_type": "markdown",
   "id": "a2157de8",
   "metadata": {},
   "source": [
    "### Bài 6\n",
    "\n",
    "Nhập vào 2 tọa độ là 2 đỉnh của một hình chữ nhật\n",
    "\n",
    "Sau đó\n",
    "\n",
    "Nhập vào tọa độ tâm đường tròn và bán kính R\n",
    "\n",
    "Hãy vẽ hình hình chữ nhật và đường tròn trên\n",
    "\n",
    "Viết hàm kiểm tra xem đường tròn trên và hình chữ nhật cắt nhau tại bao nhiêu điểm"
   ]
  },
  {
   "cell_type": "code",
   "execution_count": null,
   "id": "e0d7b1a2",
   "metadata": {},
   "outputs": [],
   "source": []
  },
  {
   "cell_type": "markdown",
   "id": "d1491579",
   "metadata": {},
   "source": [
    "### Bài 7\n",
    "\n",
    "Viết hàm kiểm tra số nguyên tố\n",
    "\n",
    "Viết hàm kiểm tra số hoàn hảo\n",
    "\n",
    "Viết hàm kiểm tra số chính phương\n",
    "\n",
    "Viết hàm kiểm tra số Armstrong\n",
    "\n",
    "Nhập vào một chuỗi, hãy lọc và tìm ra những số ở trong chuỗi (2 chữ số liền nhau là một chuỗi)\n",
    "\n",
    "Ví dụ chuỗi: \"AB25SDc5DSjjh52\"\n",
    "\n",
    "Trong chuỗi này ta có 3 số: 25, 5 và 52\n",
    "\n",
    "Sau khi lọc số, dùng các hàm trên để kiểm tra và thực hiện như sau:\n",
    "\n",
    "Cho biến S\n",
    "\n",
    "- Nếu số đó là số nguyên tố, ta thực hiện S += số đó\n",
    "- Nếu số đó là số hoàn hảo, ta thực hiện S -= số đó\n",
    "- Nếu số đó là số chính phương, ta thực hiện S /= số đó\n",
    "- Nếu đó là số Armstrong ta cho S = 0\n",
    "\n",
    "Hãy tính và in S"
   ]
  },
  {
   "cell_type": "code",
   "execution_count": 25,
   "id": "0b699e33",
   "metadata": {},
   "outputs": [
    {
     "name": "stdout",
     "output_type": "stream",
     "text": [
      "Nhập vào chuỗi: abc23xyz26\n",
      "23\n"
     ]
    }
   ],
   "source": [
    "\n",
    "def kiemtrasonguyento(a):\n",
    "    if a == 1 or a ==2:\n",
    "        return 'số nguyên tố'\n",
    "    while True:\n",
    "        for i in range(2,a-1):\n",
    "            if a%i == 0:\n",
    "                return 'không phải số nguyên tố'\n",
    "        return'số nguyên tố'\n",
    "kiemtrasonguyento(9)\n",
    "def kiemtrasohoanhao(a):\n",
    "    S = 0\n",
    "    for i in range(1,a):##không bao gồm a\n",
    "        if a % i == 0:\n",
    "            S += i\n",
    "        return S == a\n",
    "def kiemtrasochinhphuong(a):\n",
    "    cana = a**0.5\n",
    "    return cana == int(cana)\n",
    "def kiemtrasoarmstong(a):\n",
    "    a = str(a)\n",
    "    b = len(a)\n",
    "    S = 0\n",
    "    for i in a:\n",
    "        S += int(i)**b\n",
    "        return S == int(a)\n",
    "chuoi = input(\"Nhập vào chuỗi: \")\n",
    "S = 0\n",
    "chuoitam = \"\"\n",
    "for i in chuoi:\n",
    "    if i. isnumeric():\n",
    "        chuoitam += i\n",
    "    else:\n",
    "        if chuoitam != \"\":\n",
    "            so = int(chuoitam)\n",
    "            chuoitam = \"\"\n",
    "            if kiemtrasonguyento(so) == 'số nguyên tố':\n",
    "                S += so\n",
    "            elif kiemtrasohoanhao(so):\n",
    "                S -= so\n",
    "            elif kiemtrasoarmstong(so):\n",
    "                S /= so\n",
    "            elif kiemtrasochinhphuong(so):\n",
    "                S = so\n",
    "print(S)\n",
    "            \n",
    "    \n",
    "    "
   ]
  }
 ],
 "metadata": {
  "kernelspec": {
   "display_name": "Python 3 (ipykernel)",
   "language": "python",
   "name": "python3"
  },
  "language_info": {
   "codemirror_mode": {
    "name": "ipython",
    "version": 3
   },
   "file_extension": ".py",
   "mimetype": "text/x-python",
   "name": "python",
   "nbconvert_exporter": "python",
   "pygments_lexer": "ipython3",
   "version": "3.10.4"
  }
 },
 "nbformat": 4,
 "nbformat_minor": 5
}
