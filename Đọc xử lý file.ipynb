{
 "cells": [
  {
   "cell_type": "code",
   "execution_count": 7,
   "id": "2f76acac",
   "metadata": {},
   "outputs": [
    {
     "name": "stdout",
     "output_type": "stream",
     "text": [
      "<class '_io.TextIOWrapper'>\n",
      "2\n",
      "5\n",
      "15\n",
      "2007\n",
      "\n",
      "2029\n"
     ]
    }
   ],
   "source": [
    "f = open('baole.txt','r')\n",
    "print(type(f))\n",
    "noidung = f.read()\n",
    "tam = 0\n",
    "print(noidung)\n",
    "noidung = noidung.split()\n",
    "for i in noidung:\n",
    "    if i.isnumeric():\n",
    "        i = int(i)\n",
    "        tam += i\n",
    "        \n",
    "print(tam)\n"
   ]
  },
  {
   "cell_type": "code",
   "execution_count": 8,
   "id": "736261de",
   "metadata": {},
   "outputs": [
    {
     "name": "stdout",
     "output_type": "stream",
     "text": [
      "2\n",
      "\n",
      "['5\\n', '15\\n', '2007\\n']\n"
     ]
    }
   ],
   "source": [
    "f = open('baole.txt','r')\n",
    "noidung1 = f.readline()\n",
    "noidung2 = f.readlines()\n",
    "\n",
    "print(noidung1)\n",
    "print(noidung2)"
   ]
  },
  {
   "cell_type": "code",
   "execution_count": 16,
   "id": "a1f079ab",
   "metadata": {},
   "outputs": [
    {
     "name": "stdout",
     "output_type": "stream",
     "text": [
      "['diennt\\n', '123456abc\\n', 'ngocpham\\n', 'yeuthamlong\\n', 'thanhbinh\\n', '456abc']\n",
      "Mời nhập tài khoảndiennt\n",
      "Mời nhập mật khẩu123\n",
      "Sai mật khẩu vui lòng nhập lại\n",
      "Sai mật khẩu vui lòng nhập lại\n",
      "Sai mật khẩu vui lòng nhập lại\n"
     ]
    }
   ],
   "source": [
    "f = open('userdata.txt','r')\n",
    "data = f.readlines()\n",
    "print(data)\n",
    "account = input('Mời nhập tài khoản') \n",
    "password = input('Mời nhập mật khẩu') \n",
    "L_account = []\n",
    "L_password = []\n",
    "for i in range(len(data)):    \n",
    "    if i%2 ==0:\n",
    "        L_account.append(data[i].strip())\n",
    "    else:\n",
    "        L_password.append(data[i].strip())\n",
    "for i in range(len(L_account)):\n",
    "    if account == L_account[i] and password == L_password[i]:\n",
    "        print('Đăng nhập thành công')\n",
    "        break\n",
    "    else:\n",
    "        print('Sai mật khẩu vui lòng nhập lại')"
   ]
  }
 ],
 "metadata": {
  "kernelspec": {
   "display_name": "Python 3 (ipykernel)",
   "language": "python",
   "name": "python3"
  },
  "language_info": {
   "codemirror_mode": {
    "name": "ipython",
    "version": 3
   },
   "file_extension": ".py",
   "mimetype": "text/x-python",
   "name": "python",
   "nbconvert_exporter": "python",
   "pygments_lexer": "ipython3",
   "version": "3.10.4"
  }
 },
 "nbformat": 4,
 "nbformat_minor": 5
}
