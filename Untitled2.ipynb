{
 "cells": [
  {
   "cell_type": "code",
   "execution_count": 1,
   "id": "7fcfdcac",
   "metadata": {},
   "outputs": [],
   "source": [
    "import turtle\n",
    "\n",
    "gd = turtle.Screen()\n",
    "gd.title('Demo of Pong')\n",
    "gd.bgcolor('black')\n",
    "gd.setup(width=800, height=600)\n",
    "gd.tracer(0)\n",
    "\n",
    "nv1_a = turtle.Turtle() \n",
    "nv1_a.speed(0) ## speed for animation\n",
    "nv1_a.shape(\"square\")\n",
    "nv1_a.color(\"white\")\n",
    "nv1_a.penup()\n",
    "nv1_a.goto(-350,0)\n"
   ]
  }
 ],
 "metadata": {
  "kernelspec": {
   "display_name": "Python 3 (ipykernel)",
   "language": "python",
   "name": "python3"
  },
  "language_info": {
   "codemirror_mode": {
    "name": "ipython",
    "version": 3
   },
   "file_extension": ".py",
   "mimetype": "text/x-python",
   "name": "python",
   "nbconvert_exporter": "python",
   "pygments_lexer": "ipython3",
   "version": "3.10.4"
  }
 },
 "nbformat": 4,
 "nbformat_minor": 5
}
