{
 "cells": [
  {
   "cell_type": "code",
   "execution_count": null,
   "id": "f81b7bcf",
   "metadata": {},
   "outputs": [
    {
     "name": "stdout",
     "output_type": "stream",
     "text": [
      "Nhập màu hoặc mã màu: Red\n",
      "Nhập chiều dài hình chữ nhật: 10\n",
      "Nhập chiều rộng hình chữ nhật: 5\n",
      "Chu vi hình chữ nhật là:  30.0\n",
      "Diện tích hình chữ nhật là:  50.0\n"
     ]
    }
   ],
   "source": [
    "color = input(\"Nhập màu hoặc mã màu: \")\n",
    "w = float(input(\"Nhập chiều dài hình chữ nhật: \"))\n",
    "h = float(input(\"Nhập chiều rộng hình chữ nhật: \"))\n",
    "chu_vi = 2 * (w+h)\n",
    "dien_tich = w*h\n",
    "print(\"Chu vi hình chữ nhật là: \", chu_vi)\n",
    "print(\"Diện tích hình chữ nhật là: \", dien_tich\n",
    "t.end_fill()\n",
    "turtle.done()"
   ]
  }
 ],
 "metadata": {
  "kernelspec": {
   "display_name": "Python 3 (ipykernel)",
   "language": "python",
   "name": "python3"
  },
  "language_info": {
   "codemirror_mode": {
    "name": "ipython",
    "version": 3
   },
   "file_extension": ".py",
   "mimetype": "text/x-python",
   "name": "python",
   "nbconvert_exporter": "python",
   "pygments_lexer": "ipython3",
   "version": "3.10.4"
  }
 },
 "nbformat": 4,
 "nbformat_minor": 5
}
