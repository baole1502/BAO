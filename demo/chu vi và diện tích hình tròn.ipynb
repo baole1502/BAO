{
 "cells": [
  {
   "cell_type": "code",
   "execution_count": null,
   "id": "d46d409d",
   "metadata": {},
   "outputs": [
    {
     "name": "stdout",
     "output_type": "stream",
     "text": [
      "Nhập bán kính: 10\n",
      "chu vi hình tròn có bán kính  10 là: 62.83185307179586\n",
      "diện tích hình tròn có bán kính  10 là: 314.1592653589793\n"
     ]
    }
   ],
   "source": [
    "r = int(input(\"Nhập bán kính: \"))\n",
    "import math\n",
    "chu_vi = 2 * math.pi * r\n",
    "dien_tich = math.pi * r**2\n",
    "print(\"chu vi hình tròn có bán kính \", r,'là:', chu_vi)\n",
    "print(\"diện tích hình tròn có bán kính \", r,'là:', dien_tich)\n",
    "import turtle\n",
    "t = turtle.Turtle()\n",
    "t.hideturtle()\n",
    "t.pensize(1)\n",
    "t.color(\"red\")\n",
    "t.circle(r)\n",
    "turtle.done()\n"
   ]
  }
 ],
 "metadata": {
  "kernelspec": {
   "display_name": "Python 3 (ipykernel)",
   "language": "python",
   "name": "python3"
  },
  "language_info": {
   "codemirror_mode": {
    "name": "ipython",
    "version": 3
   },
   "file_extension": ".py",
   "mimetype": "text/x-python",
   "name": "python",
   "nbconvert_exporter": "python",
   "pygments_lexer": "ipython3",
   "version": "3.10.4"
  }
 },
 "nbformat": 4,
 "nbformat_minor": 5
}
