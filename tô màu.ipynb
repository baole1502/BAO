{
 "cells": [
  {
   "cell_type": "code",
   "execution_count": 13,
   "id": "287a2619",
   "metadata": {},
   "outputs": [
    {
     "name": "stdout",
     "output_type": "stream",
     "text": [
      "circle and square, what is your favorite shape?circle\n",
      "What color will it be?, yellow, red or blue?yellow\n"
     ]
    }
   ],
   "source": [
    "import turtle\n",
    "shapeInput = input('circle and square, what is your favorite shape?')\n",
    "if shapeInput != 'circle' and shapeInput != 'square':\n",
    "    print('Sorry, we do not have this shape')\n",
    "else:\n",
    "    colorInput = input('What color will it be?, yellow, red or blue?')\n",
    "    if colorInput != 'yellow' and colorInput != 'red' and colorInput and 'blue':\n",
    "          print('Sorry, we do not have this color')\n",
    "    else:\n",
    "        t = turtle.Screen()\n",
    "        t.bgcolor('black')\n",
    "        t.title('Your shape')\n",
    "        shape = turtle.Turtle()\n",
    "        shape.shape(shapeInput)\n",
    "        shape.color(colorInput)\n",
    "        turtle.done  \n",
    "          \n",
    "    \n",
    "   \n",
    "        \n"
   ]
  },
  {
   "cell_type": "code",
   "execution_count": 1,
   "id": "3faa6a48",
   "metadata": {},
   "outputs": [],
   "source": [
    "import turtle\n",
    "import random\n",
    "number = random.uniform(0,3)\n",
    "intNumber = int(number)\n",
    "window = turtle.Screen()\n",
    "window.bgcolor('black')\n",
    "window.title('Circle')\n",
    "ball = turtle.Turtle()\n",
    "ball.shape('circle')\n",
    "if intNumber <1:\n",
    "    ball.color('green')\n",
    "elif intNuber <2:\n",
    "    ball.color('yellow')\n",
    "elif intNumber <3:\n",
    "    ball.color('red')\n",
    "turtle.done()"
   ]
  }
 ],
 "metadata": {
  "kernelspec": {
   "display_name": "Python 3 (ipykernel)",
   "language": "python",
   "name": "python3"
  },
  "language_info": {
   "codemirror_mode": {
    "name": "ipython",
    "version": 3
   },
   "file_extension": ".py",
   "mimetype": "text/x-python",
   "name": "python",
   "nbconvert_exporter": "python",
   "pygments_lexer": "ipython3",
   "version": "3.10.4"
  }
 },
 "nbformat": 4,
 "nbformat_minor": 5
}
