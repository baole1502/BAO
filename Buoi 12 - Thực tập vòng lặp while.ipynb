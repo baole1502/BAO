{
 "cells": [
  {
   "cell_type": "markdown",
   "id": "1f7be993",
   "metadata": {},
   "source": [
    "# Thực tập vòng lặp While\n",
    "\n",
    "### Bài 1\n",
    "\n",
    "Nhập vào số a, sử dụng lệnh while (không sử dụng break và for) để xác định xem số đó có phải là số nguyên tố hay không"
   ]
  },
  {
   "cell_type": "code",
   "execution_count": null,
   "id": "8cb73965",
   "metadata": {},
   "outputs": [],
   "source": []
  },
  {
   "cell_type": "markdown",
   "id": "9f2357ca",
   "metadata": {},
   "source": [
    "### Bài 2\n",
    "\n",
    "Hãy sử dụng lệnh while lập trình cho bài đoán số ở buổi thứ 9"
   ]
  },
  {
   "cell_type": "code",
   "execution_count": 9,
   "id": "db79cb9d",
   "metadata": {},
   "outputs": [
    {
     "name": "stdout",
     "output_type": "stream",
     "text": [
      "Tui đoán số bạn nghĩ là: 50>\n",
      "Tui đoán số bạn nghĩ là: 75>\n",
      "Tui đoán số bạn nghĩ là: 88>\n",
      "Tui đoán số bạn nghĩ là: 94>\n",
      "Tui đoán số bạn nghĩ là: 97>\n",
      "Tui đoán số bạn nghĩ là: 99=\n",
      "số mình đoán là:  99 trong 6 lần đoán\n"
     ]
    }
   ],
   "source": [
    "ghd = 0\n",
    "ght= 100\n",
    "sodoan = (ght + ghd)//2\n",
    "solandoan = 1\n",
    "tl = input(\"Tui đoán số bạn nghĩ là: \" + str(sodoan))\n",
    "a = 0\n",
    "while a<8: \n",
    "    a += 1\n",
    "    if tl != \"=\":\n",
    "        solandoan += 1\n",
    "        if tl == \">\":\n",
    "            ghd = sodoan + 1\n",
    "        elif tl == \"<\":\n",
    "            ght = sodoan -1\n",
    "        sodoan = (ght + ghd)//2\n",
    "        tl = input(\"Tui đoán số bạn nghĩ là: \" + str(sodoan))\n",
    "print(\"số mình đoán là: \", sodoan, \"trong\", solandoan, \"lần đoán\")"
   ]
  },
  {
   "cell_type": "markdown",
   "id": "58f5b789",
   "metadata": {},
   "source": [
    "### Bài 3\n",
    "\n",
    "Nhập vào số a, hãy đếm a có bao nhiêu chữ số chẵn, bao nhiêu cữ số lẻ\n",
    "\n",
    "#### Cách 1 (dùng chuỗi):"
   ]
  },
  {
   "cell_type": "code",
   "execution_count": 6,
   "id": "e7f9da21",
   "metadata": {},
   "outputs": [
    {
     "name": "stdout",
     "output_type": "stream",
     "text": [
      "Nhập vào số a: 1234\n",
      "0\n",
      "0\n"
     ]
    }
   ],
   "source": [
    "a = int(input(\"Nhập vào số a: \"))\n",
    "SCSC = 0\n",
    "SCSL = 0\n",
    "k = 1\n",
    "while a == len(str(a)):\n",
    "    k = k*10\n",
    "    b = a%k\n",
    "    if b%2 == 0:\n",
    "        SCSC += 1\n",
    "    elif b%2 == 1:\n",
    "        SCSL += 1\n",
    "print(SCSC)\n",
    "print(SCSL)\n",
    "    "
   ]
  },
  {
   "cell_type": "code",
   "execution_count": 9,
   "id": "7a49b5b9",
   "metadata": {},
   "outputs": [
    {
     "name": "stdout",
     "output_type": "stream",
     "text": [
      "Nhập a bất kì:1234\n",
      "2 2\n"
     ]
    }
   ],
   "source": [
    "a = int(input(\"Nhập a bất kì:\"))\n",
    "\n",
    "a = str(a)\n",
    "i = 0\n",
    "SCSC = 0\n",
    "SCSL = 0\n",
    "while i<len(a):\n",
    "    if int(a[i])%2==0 and int(a[i] != 0:\n",
    "        SCSC +=1\n",
    "    else:\n",
    "        SCSL+=1\n",
    "    i+=1\n",
    "print(SCSC,SCSL)"
   ]
  },
  {
   "cell_type": "markdown",
   "id": "9a3d9703",
   "metadata": {},
   "source": [
    "#### Cách 2 (không dùng chuỗi):"
   ]
  },
  {
   "cell_type": "code",
   "execution_count": null,
   "id": "d4e474c8",
   "metadata": {},
   "outputs": [],
   "source": []
  },
  {
   "cell_type": "markdown",
   "id": "69539ece",
   "metadata": {},
   "source": [
    "### Bài 4\n",
    "\n",
    "Nhập vào số a, hãy tính tổng các chữ số nguyên tố của a"
   ]
  },
  {
   "cell_type": "code",
   "execution_count": 17,
   "id": "f001bd9a",
   "metadata": {},
   "outputs": [
    {
     "name": "stdout",
     "output_type": "stream",
     "text": [
      "Hãy nhập một số nào: 12354\n",
      "10\n"
     ]
    }
   ],
   "source": [
    "a = int(input(\"Hãy nhập một số nào: \"))\n",
    "i = 0\n",
    "SSNT = 0\n",
    "a = str(a)\n",
    "while i < len(a):    \n",
    "    if int(a[i])==2:\n",
    "        SSNT = SSNT +2\n",
    "    elif int(a[i])==3:\n",
    "        SSNT = SSNT +3\n",
    "    elif int(a[i])==5:\n",
    "        SSNT = SSNT +5\n",
    "    elif int(a[i])==7:\n",
    "        SSNT = SSNT +7\n",
    "    i += 1\n",
    "\n",
    "print(SSNT)\n",
    "\n",
    "\n",
    "    "
   ]
  },
  {
   "cell_type": "markdown",
   "id": "0a5075a4",
   "metadata": {},
   "source": [
    "### Bài 5\n",
    "\n",
    "Số armstrong là số có tổng của các chữ số mũ số lượng chữ số bằng chính nó\n",
    "\n",
    "Ví dụ\n",
    "\n",
    "Số 371 là một số armstrong vì:\n",
    "\n",
    "371 = 3^3 + 7^3 + 1^3 (3 là số lượng chữ số của 371)\n",
    "\n",
    "Số 1634 là một số armstrong vì:\n",
    "\n",
    "1634 = 1^4 + 6^4 + 3^4 + 4^4 (4 là số lượng chữ số của 1634)\n",
    "\n",
    "Nhập vào số a, kiểm tra xem a có phải là số armstrong không"
   ]
  },
  {
   "cell_type": "code",
   "execution_count": 27,
   "id": "b9ed54a5",
   "metadata": {},
   "outputs": [
    {
     "name": "stdout",
     "output_type": "stream",
     "text": [
      "nhập: 371\n",
      "đây là số armstrong\n"
     ]
    }
   ],
   "source": [
    "a = int(input(\"nhập: \"))\n",
    "a = str(a)\n",
    "i = 0\n",
    "tong = 0\n",
    "so_mu = int(len(a))\n",
    "while i < len(a):\n",
    "    b = int(a[i])**so_mu\n",
    "    tong += b\n",
    "    i += 1\n",
    "if tong == int(a):\n",
    "    print(\"đây là số armstrong\")\n",
    "else:\n",
    "    print(\"sai rồi\")\n",
    "    \n",
    "    "
   ]
  },
  {
   "cell_type": "code",
   "execution_count": 26,
   "id": "dfaca593",
   "metadata": {},
   "outputs": [
    {
     "name": "stdout",
     "output_type": "stream",
     "text": [
      "nhập a:371\n",
      "a là số amstrong\n"
     ]
    }
   ],
   "source": [
    "a = input(\"nhập a:\")\n",
    "i = 0\n",
    "tong_tam = 0\n",
    "tong = 0\n",
    "b = 0\n",
    "\n",
    "while i<len(a):\n",
    "    b = int(a[i])\n",
    "    tong_tam = b**int(len(a))\n",
    "    tong +=tong_tam\n",
    "    i +=1\n",
    "if tong == int(a):\n",
    "    print(\"a là số amstrong\")\n",
    "else:\n",
    "    print(\"a không là số amstrong\")"
   ]
  },
  {
   "cell_type": "markdown",
   "id": "f8a584d3",
   "metadata": {},
   "source": [
    "### Bài 6\n",
    "\n",
    "Dãy số fibonacci là dãy số được định nghĩa như sau: 1, 1, 2, 3, 5, 8, 13,... với số kế tiếp sẽ bằng tổng hai số trước đó\n",
    "\n",
    "Nhập vào A, hãy tìm số trong dãy số fibonacci lớn nhất nhưng không vượt quá A"
   ]
  },
  {
   "cell_type": "code",
   "execution_count": 40,
   "id": "3ad4d85b",
   "metadata": {},
   "outputs": [
    {
     "name": "stdout",
     "output_type": "stream",
     "text": [
      "hãy nhập vào một sô: 13\n",
      "32\n"
     ]
    }
   ],
   "source": [
    "a = int(input(\"hãy nhập vào một sô: \"))\n",
    "i = 0\n",
    "b = 1\n",
    "c = 1\n",
    "while True:\n",
    "    sotieptheo = b + c\n",
    "    b = c\n",
    "    c = b + c\n",
    "    if sotieptheo > a:\n",
    "        break\n",
    "print(c)\n",
    "    "
   ]
  },
  {
   "cell_type": "code",
   "execution_count": 2,
   "id": "c2665d0f",
   "metadata": {},
   "outputs": [
    {
     "name": "stdout",
     "output_type": "stream",
     "text": [
      "Nhập vào A: 13\n",
      "8\n"
     ]
    }
   ],
   "source": [
    "A = int(input(\"Nhập vào A: \"))\n",
    "\n",
    "a = 1\n",
    "b = 1\n",
    "c = a + b\n",
    "\n",
    "while c < A:\n",
    "    a = b\n",
    "    b = c\n",
    "    c = a+b\n",
    "print(b)"
   ]
  },
  {
   "cell_type": "markdown",
   "id": "9fa794f2",
   "metadata": {},
   "source": [
    "### Bài 7\n",
    "\n",
    "Nhập vào A, tìm n nhỏ nhất sao cho\n",
    "\n",
    "1 + 1/2 + 1/3 + 1/4 + ... + 1/n > A"
   ]
  },
  {
   "cell_type": "code",
   "execution_count": 3,
   "id": "246ec002",
   "metadata": {},
   "outputs": [
    {
     "name": "stdout",
     "output_type": "stream",
     "text": [
      "Hãy nhập một số nguyên dương:8\n",
      "1675 8.000485571995782\n"
     ]
    }
   ],
   "source": [
    "while True:\n",
    "    a = int(input('Hãy nhập một số nguyên dương:'))\n",
    "    if a >0:\n",
    "        break\n",
    "    print(\"Bạn đã nhập sai yêu cầu, vui lòng nhập lại\")\n",
    "k = 1\n",
    "tong = 0\n",
    "while tong <= a:\n",
    "    k += 1\n",
    "    tong += (1/k)\n",
    "print(k,tong)\n",
    "    \n",
    "    \n"
   ]
  },
  {
   "cell_type": "markdown",
   "id": "c5fd4d8a",
   "metadata": {},
   "source": [
    "### Bài 8\n",
    "\n",
    "Nhập vào a và b là số nguyên dương (b có một chữ số, nhập sai yêu cầu nhập lại), hãy tìm vị trí đầu tiên (bắt đầu từ bên trái) của b trong a, nếu không tìm thấy thì in kết quả là 0 (ví trí đầu bắt đầu từ 1)\n",
    "\n",
    "<b>Ví dụ:</b>\n",
    "\n",
    "<b>Nhập:</b>\n",
    "- a = 125785\n",
    "- b = 5\n",
    "\n",
    "<b>Kết quả:</b> 3 (do số 5 nằm ở vị trí 3)"
   ]
  },
  {
   "cell_type": "code",
   "execution_count": 4,
   "id": "9edf35ac",
   "metadata": {},
   "outputs": [
    {
     "name": "stdout",
     "output_type": "stream",
     "text": [
      "Hãy nhập vào số a: 12345\n",
      "Hãy nhập chữ số b: 6\n",
      "0\n"
     ]
    }
   ],
   "source": [
    "while True:\n",
    "    a = int(input(\"Hãy nhập vào số a: \"))\n",
    "    b = int(input(\"Hãy nhập chữ số b: \"))\n",
    "    if a>0:\n",
    "        break\n",
    "    print(\"Sai yêu cầu nhập lại\") \n",
    "    if len(str(b)) == 1:\n",
    "        break\n",
    "    print(\"Sai yêu cầu nhập lại\")\n",
    "b = str(b)  \n",
    "i = 0\n",
    "a = str(a)\n",
    "while i <len(a):\n",
    "    if int(a[i]) == b:\n",
    "        print(i +1)\n",
    "        break\n",
    "    i += 1\n",
    "if i == len(a):\n",
    "    print(0)\n",
    "    "
   ]
  }
 ],
 "metadata": {
  "kernelspec": {
   "display_name": "Python 3 (ipykernel)",
   "language": "python",
   "name": "python3"
  },
  "language_info": {
   "codemirror_mode": {
    "name": "ipython",
    "version": 3
   },
   "file_extension": ".py",
   "mimetype": "text/x-python",
   "name": "python",
   "nbconvert_exporter": "python",
   "pygments_lexer": "ipython3",
   "version": "3.10.4"
  }
 },
 "nbformat": 4,
 "nbformat_minor": 5
}
