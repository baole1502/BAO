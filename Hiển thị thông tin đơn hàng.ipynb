{
 "cells": [
  {
   "cell_type": "code",
   "execution_count": 7,
   "id": "32fecc76",
   "metadata": {},
   "outputs": [
    {
     "name": "stdout",
     "output_type": "stream",
     "text": [
      "Hây nhập vào tông số tiền cần thanh toán: 500\n",
      "450\n"
     ]
    }
   ],
   "source": [
    "thanhtoan = int(input(\"Hây nhập vào tông số tiền cần thanh toán: \"))\n",
    "if thanhtoan < 75:\n",
    "    thucte = thanhtoan\n",
    "elif 75 <= thanhtoan <100:\n",
    "    thucte = thanhtoan - 15\n",
    "elif 100 <= thanhtoan < 150:\n",
    "    thucte = thanhtoan - 25\n",
    "elif 150 <thanhtoan:\n",
    "    thucte = thanhtoan - 50\n",
    "print(thucte)"
   ]
  }
 ],
 "metadata": {
  "kernelspec": {
   "display_name": "Python 3 (ipykernel)",
   "language": "python",
   "name": "python3"
  },
  "language_info": {
   "codemirror_mode": {
    "name": "ipython",
    "version": 3
   },
   "file_extension": ".py",
   "mimetype": "text/x-python",
   "name": "python",
   "nbconvert_exporter": "python",
   "pygments_lexer": "ipython3",
   "version": "3.10.4"
  }
 },
 "nbformat": 4,
 "nbformat_minor": 5
}
