{
 "cells": [
  {
   "cell_type": "code",
   "execution_count": null,
   "id": "f8b124ed",
   "metadata": {},
   "outputs": [],
   "source": [
    "weight = int(input(\"Hãy nhập vào cân nặng của bạn(kg): \"))\n",
    "height = int(input(\"Hãy nhập vào chiều cao của bạn(m): \"))\n",
    "BMI = weigh/(height**2)\n",
    "if BMI <10:\n",
    "    print('Gầy cấp độ III')\n",
    "elif 16 <= BMI < 17:\n",
    "    print(\"Gầy cấp độ II\")\n",
    "elif 17 <= BMI < 18.5:\n",
    "    print(\"Gầy vấp dô I\")\n",
    "elif 18.5 <= BMI < 25:\n",
    "    print(\"Bình thường\")\n",
    "elif 25<= BMI < 30:\n",
    "    print(\"Thừa cân\")\n",
    "elif 30<= BMI < 35:\n",
    "    print(\"Béo phì cấp độ I\")\n",
    "elif 35<= BMI < 40:\n",
    "    print(\"Béo phì cấp độ II\")\n",
    "elif 40< BMI :\n",
    "    print(\"Béo phì cấp độ III\")\n"
   ]
  }
 ],
 "metadata": {
  "kernelspec": {
   "display_name": "Python 3 (ipykernel)",
   "language": "python",
   "name": "python3"
  },
  "language_info": {
   "codemirror_mode": {
    "name": "ipython",
    "version": 3
   },
   "file_extension": ".py",
   "mimetype": "text/x-python",
   "name": "python",
   "nbconvert_exporter": "python",
   "pygments_lexer": "ipython3",
   "version": "3.10.4"
  }
 },
 "nbformat": 4,
 "nbformat_minor": 5
}
